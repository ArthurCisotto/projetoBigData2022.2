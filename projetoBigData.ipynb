{
 "cells": [
  {
   "cell_type": "markdown",
   "metadata": {},
   "source": [
    "# Projeto da Disciplina BIG DATA PARA DADOS PÚBLICOS - 2022/2"
   ]
  },
  {
   "cell_type": "markdown",
   "metadata": {},
   "source": [
    "### Aluno: Arthur Cisotto Machado\n",
    "\n"
   ]
  },
  {
   "cell_type": "markdown",
   "metadata": {},
   "source": [
    "### 1. Introdução\n",
    "\n",
    "O objetivo deste projeto consiste no uso de técnicas aprendidas em aula para conduzir um projeto de análise de grandes volumes de dados.  \n",
    "\n",
    "O projeto foi desenvolvido utilizando o Dask, uma biblioteca Python que permite a manipulação de dados em paralelo, e o Pandas, uma biblioteca Python para manipulação de dados.  \n",
    "\n",
    "O projeto consiste na análise de dados de avaliações de livros do site Goodreads (Amazon). O dataset utilizado pode ser encontrado no [Kaggle](https://www.kaggle.com/datasets/mohamedbakhet/amazon-books-reviews), e consiste em 2 arquivos CSV, sendo eles:  \n",
    "- \"books_data.csv\" - contém informações sobre os livros, como título, autor, editora, etc.\n",
    "- \"Books_rating.csv\" - contém informações sobre as avaliações dos livros, como nota, data da avaliação, texto da avaliação, etc.\n",
    "\n",
    "### 2. Objetivos e Contextualização\n",
    "A partir dos dados da base, realizar uma análise exploratória ressaltando padrões de comportamento nos livros e suas avaliações disponíveis na base (score, gênero, data de lançamento, autor).  \n",
    "  \n",
    "A análise desses dados pode ser utilizada para auxiliar na tomada de decisão de compra de livros, por exemplo, para que o usuário possa escolher um livro que tenha uma boa avaliação e que esteja dentro da sua preferência de gênero, autor, etc. \n",
    "  \n",
    "É interessante também observar as tendências históricas de avaliações de livros, para que se possa observar se há uma tendência de aumento ou diminuição de avaliações de livros ao longo do tempo, ou qual o ano que teve mais avaliações de livros, quais gêneros de livros tiveram mais avaliações, etc.\n",
    "\n",
    "\n",
    "\n"
   ]
  },
  {
   "cell_type": "markdown",
   "metadata": {},
   "source": [
    "### 3. Desenvolvimento"
   ]
  },
  {
   "cell_type": "markdown",
   "id": "ada4bcce",
   "metadata": {},
   "source": [
    "### Importando as Bibliotecas Necessárias para a execução do trabalho:\n",
    "\n"
   ]
  },
  {
   "cell_type": "code",
   "execution_count": 323,
   "id": "a3a7e9dc",
   "metadata": {},
   "outputs": [
    {
     "name": "stderr",
     "output_type": "stream",
     "text": [
      "[nltk_data] Downloading package stopwords to\n",
      "[nltk_data]     C:\\Users\\tutuc\\AppData\\Roaming\\nltk_data...\n",
      "[nltk_data]   Package stopwords is already up-to-date!\n"
     ]
    }
   ],
   "source": [
    "# Para utilizar recursos do sistema\n",
    "import os\n",
    "import sys\n",
    "\n",
    "# Bibliotecas DASK\n",
    "import dask\n",
    "from dask.distributed import Client\n",
    "import dask.dataframe as dd # similar ao pandas\n",
    "import dask.multiprocessing\n",
    "\n",
    "# Bibliotecas Pandas\n",
    "import pandas as pd\n",
    "\n",
    "# Para plot\n",
    "%matplotlib inline\n",
    "import matplotlib.pyplot as plt\n",
    "\n",
    "# Para processamento de dados\n",
    "import nltk\n",
    "nltk.download('stopwords')\n",
    "\n",
    "# Import libraries for text manipulation\n",
    "from sklearn.feature_extraction.text import TfidfVectorizer, CountVectorizer\n",
    "from sklearn.model_selection import train_test_split\n",
    "from sklearn.naive_bayes import MultinomialNB\n",
    "# Import modules for evaluation purposes\n",
    "# Import libraries for predcton\n",
    "from sklearn import metrics\n",
    "from sklearn.metrics import confusion_matrix,accuracy_score,roc_auc_score,roc_curve,auc,f1_score\n",
    "\n"
   ]
  },
  {
   "cell_type": "markdown",
   "metadata": {},
   "source": [
    "### Configurando um ambiente Dask\n",
    "\n",
    "Agora iremos configurar um ambiente Dask para execução das nossas análises. Para isso, iremos criar um **client**"
   ]
  },
  {
   "cell_type": "code",
   "execution_count": 324,
   "metadata": {},
   "outputs": [
    {
     "name": "stderr",
     "output_type": "stream",
     "text": [
      "C:\\Users\\tutuc\\AppData\\Local\\Packages\\PythonSoftwareFoundation.Python.3.10_qbz5n2kfra8p0\\LocalCache\\local-packages\\Python310\\site-packages\\distributed\\node.py:183: UserWarning: Port 8787 is already in use.\n",
      "Perhaps you already have a cluster running?\n",
      "Hosting the HTTP server on port 64448 instead\n",
      "  warnings.warn(\n"
     ]
    }
   ],
   "source": [
    "client = Client(n_workers=3, threads_per_worker=1, memory_limit='1GB')"
   ]
  },
  {
   "cell_type": "code",
   "execution_count": 325,
   "metadata": {},
   "outputs": [
    {
     "data": {
      "text/html": [
       "<div>\n",
       "    <div style=\"width: 24px; height: 24px; background-color: #e1e1e1; border: 3px solid #9D9D9D; border-radius: 5px; position: absolute;\"> </div>\n",
       "    <div style=\"margin-left: 48px;\">\n",
       "        <h3 style=\"margin-bottom: 0px;\">Client</h3>\n",
       "        <p style=\"color: #9D9D9D; margin-bottom: 0px;\">Client-180fbc8b-7021-11ed-a334-00d76d35dff8</p>\n",
       "        <table style=\"width: 100%; text-align: left;\">\n",
       "\n",
       "        <tr>\n",
       "        \n",
       "            <td style=\"text-align: left;\"><strong>Connection method:</strong> Cluster object</td>\n",
       "            <td style=\"text-align: left;\"><strong>Cluster type:</strong> distributed.LocalCluster</td>\n",
       "        \n",
       "        </tr>\n",
       "\n",
       "        \n",
       "            <tr>\n",
       "                <td style=\"text-align: left;\">\n",
       "                    <strong>Dashboard: </strong> <a href=\"http://127.0.0.1:64448/status\" target=\"_blank\">http://127.0.0.1:64448/status</a>\n",
       "                </td>\n",
       "                <td style=\"text-align: left;\"></td>\n",
       "            </tr>\n",
       "        \n",
       "\n",
       "        </table>\n",
       "\n",
       "        \n",
       "            <details>\n",
       "            <summary style=\"margin-bottom: 20px;\"><h3 style=\"display: inline;\">Cluster Info</h3></summary>\n",
       "            <div class=\"jp-RenderedHTMLCommon jp-RenderedHTML jp-mod-trusted jp-OutputArea-output\">\n",
       "    <div style=\"width: 24px; height: 24px; background-color: #e1e1e1; border: 3px solid #9D9D9D; border-radius: 5px; position: absolute;\">\n",
       "    </div>\n",
       "    <div style=\"margin-left: 48px;\">\n",
       "        <h3 style=\"margin-bottom: 0px; margin-top: 0px;\">LocalCluster</h3>\n",
       "        <p style=\"color: #9D9D9D; margin-bottom: 0px;\">45d619e4</p>\n",
       "        <table style=\"width: 100%; text-align: left;\">\n",
       "            <tr>\n",
       "                <td style=\"text-align: left;\">\n",
       "                    <strong>Dashboard:</strong> <a href=\"http://127.0.0.1:64448/status\" target=\"_blank\">http://127.0.0.1:64448/status</a>\n",
       "                </td>\n",
       "                <td style=\"text-align: left;\">\n",
       "                    <strong>Workers:</strong> 3\n",
       "                </td>\n",
       "            </tr>\n",
       "            <tr>\n",
       "                <td style=\"text-align: left;\">\n",
       "                    <strong>Total threads:</strong> 3\n",
       "                </td>\n",
       "                <td style=\"text-align: left;\">\n",
       "                    <strong>Total memory:</strong> 2.79 GiB\n",
       "                </td>\n",
       "            </tr>\n",
       "            \n",
       "            <tr>\n",
       "    <td style=\"text-align: left;\"><strong>Status:</strong> running</td>\n",
       "    <td style=\"text-align: left;\"><strong>Using processes:</strong> True</td>\n",
       "</tr>\n",
       "\n",
       "            \n",
       "        </table>\n",
       "\n",
       "        <details>\n",
       "            <summary style=\"margin-bottom: 20px;\">\n",
       "                <h3 style=\"display: inline;\">Scheduler Info</h3>\n",
       "            </summary>\n",
       "\n",
       "            <div style=\"\">\n",
       "    <div>\n",
       "        <div style=\"width: 24px; height: 24px; background-color: #FFF7E5; border: 3px solid #FF6132; border-radius: 5px; position: absolute;\"> </div>\n",
       "        <div style=\"margin-left: 48px;\">\n",
       "            <h3 style=\"margin-bottom: 0px;\">Scheduler</h3>\n",
       "            <p style=\"color: #9D9D9D; margin-bottom: 0px;\">Scheduler-9aac7fb7-db36-4a0a-a82a-be222a79a2c8</p>\n",
       "            <table style=\"width: 100%; text-align: left;\">\n",
       "                <tr>\n",
       "                    <td style=\"text-align: left;\">\n",
       "                        <strong>Comm:</strong> tcp://127.0.0.1:64449\n",
       "                    </td>\n",
       "                    <td style=\"text-align: left;\">\n",
       "                        <strong>Workers:</strong> 3\n",
       "                    </td>\n",
       "                </tr>\n",
       "                <tr>\n",
       "                    <td style=\"text-align: left;\">\n",
       "                        <strong>Dashboard:</strong> <a href=\"http://127.0.0.1:64448/status\" target=\"_blank\">http://127.0.0.1:64448/status</a>\n",
       "                    </td>\n",
       "                    <td style=\"text-align: left;\">\n",
       "                        <strong>Total threads:</strong> 3\n",
       "                    </td>\n",
       "                </tr>\n",
       "                <tr>\n",
       "                    <td style=\"text-align: left;\">\n",
       "                        <strong>Started:</strong> Just now\n",
       "                    </td>\n",
       "                    <td style=\"text-align: left;\">\n",
       "                        <strong>Total memory:</strong> 2.79 GiB\n",
       "                    </td>\n",
       "                </tr>\n",
       "            </table>\n",
       "        </div>\n",
       "    </div>\n",
       "\n",
       "    <details style=\"margin-left: 48px;\">\n",
       "        <summary style=\"margin-bottom: 20px;\">\n",
       "            <h3 style=\"display: inline;\">Workers</h3>\n",
       "        </summary>\n",
       "\n",
       "        \n",
       "        <div style=\"margin-bottom: 20px;\">\n",
       "            <div style=\"width: 24px; height: 24px; background-color: #DBF5FF; border: 3px solid #4CC9FF; border-radius: 5px; position: absolute;\"> </div>\n",
       "            <div style=\"margin-left: 48px;\">\n",
       "            <details>\n",
       "                <summary>\n",
       "                    <h4 style=\"margin-bottom: 0px; display: inline;\">Worker: 0</h4>\n",
       "                </summary>\n",
       "                <table style=\"width: 100%; text-align: left;\">\n",
       "                    <tr>\n",
       "                        <td style=\"text-align: left;\">\n",
       "                            <strong>Comm: </strong> tcp://127.0.0.1:64476\n",
       "                        </td>\n",
       "                        <td style=\"text-align: left;\">\n",
       "                            <strong>Total threads: </strong> 1\n",
       "                        </td>\n",
       "                    </tr>\n",
       "                    <tr>\n",
       "                        <td style=\"text-align: left;\">\n",
       "                            <strong>Dashboard: </strong> <a href=\"http://127.0.0.1:64477/status\" target=\"_blank\">http://127.0.0.1:64477/status</a>\n",
       "                        </td>\n",
       "                        <td style=\"text-align: left;\">\n",
       "                            <strong>Memory: </strong> 0.93 GiB\n",
       "                        </td>\n",
       "                    </tr>\n",
       "                    <tr>\n",
       "                        <td style=\"text-align: left;\">\n",
       "                            <strong>Nanny: </strong> tcp://127.0.0.1:64454\n",
       "                        </td>\n",
       "                        <td style=\"text-align: left;\"></td>\n",
       "                    </tr>\n",
       "                    <tr>\n",
       "                        <td colspan=\"2\" style=\"text-align: left;\">\n",
       "                            <strong>Local directory: </strong> C:\\Users\\tutuc\\AppData\\Local\\Temp\\dask-worker-space\\worker-c6ku7may\n",
       "                        </td>\n",
       "                    </tr>\n",
       "\n",
       "                    \n",
       "\n",
       "                    \n",
       "\n",
       "                </table>\n",
       "            </details>\n",
       "            </div>\n",
       "        </div>\n",
       "        \n",
       "        <div style=\"margin-bottom: 20px;\">\n",
       "            <div style=\"width: 24px; height: 24px; background-color: #DBF5FF; border: 3px solid #4CC9FF; border-radius: 5px; position: absolute;\"> </div>\n",
       "            <div style=\"margin-left: 48px;\">\n",
       "            <details>\n",
       "                <summary>\n",
       "                    <h4 style=\"margin-bottom: 0px; display: inline;\">Worker: 1</h4>\n",
       "                </summary>\n",
       "                <table style=\"width: 100%; text-align: left;\">\n",
       "                    <tr>\n",
       "                        <td style=\"text-align: left;\">\n",
       "                            <strong>Comm: </strong> tcp://127.0.0.1:64479\n",
       "                        </td>\n",
       "                        <td style=\"text-align: left;\">\n",
       "                            <strong>Total threads: </strong> 1\n",
       "                        </td>\n",
       "                    </tr>\n",
       "                    <tr>\n",
       "                        <td style=\"text-align: left;\">\n",
       "                            <strong>Dashboard: </strong> <a href=\"http://127.0.0.1:64480/status\" target=\"_blank\">http://127.0.0.1:64480/status</a>\n",
       "                        </td>\n",
       "                        <td style=\"text-align: left;\">\n",
       "                            <strong>Memory: </strong> 0.93 GiB\n",
       "                        </td>\n",
       "                    </tr>\n",
       "                    <tr>\n",
       "                        <td style=\"text-align: left;\">\n",
       "                            <strong>Nanny: </strong> tcp://127.0.0.1:64452\n",
       "                        </td>\n",
       "                        <td style=\"text-align: left;\"></td>\n",
       "                    </tr>\n",
       "                    <tr>\n",
       "                        <td colspan=\"2\" style=\"text-align: left;\">\n",
       "                            <strong>Local directory: </strong> C:\\Users\\tutuc\\AppData\\Local\\Temp\\dask-worker-space\\worker-t0t8ey8y\n",
       "                        </td>\n",
       "                    </tr>\n",
       "\n",
       "                    \n",
       "\n",
       "                    \n",
       "\n",
       "                </table>\n",
       "            </details>\n",
       "            </div>\n",
       "        </div>\n",
       "        \n",
       "        <div style=\"margin-bottom: 20px;\">\n",
       "            <div style=\"width: 24px; height: 24px; background-color: #DBF5FF; border: 3px solid #4CC9FF; border-radius: 5px; position: absolute;\"> </div>\n",
       "            <div style=\"margin-left: 48px;\">\n",
       "            <details>\n",
       "                <summary>\n",
       "                    <h4 style=\"margin-bottom: 0px; display: inline;\">Worker: 2</h4>\n",
       "                </summary>\n",
       "                <table style=\"width: 100%; text-align: left;\">\n",
       "                    <tr>\n",
       "                        <td style=\"text-align: left;\">\n",
       "                            <strong>Comm: </strong> tcp://127.0.0.1:64482\n",
       "                        </td>\n",
       "                        <td style=\"text-align: left;\">\n",
       "                            <strong>Total threads: </strong> 1\n",
       "                        </td>\n",
       "                    </tr>\n",
       "                    <tr>\n",
       "                        <td style=\"text-align: left;\">\n",
       "                            <strong>Dashboard: </strong> <a href=\"http://127.0.0.1:64483/status\" target=\"_blank\">http://127.0.0.1:64483/status</a>\n",
       "                        </td>\n",
       "                        <td style=\"text-align: left;\">\n",
       "                            <strong>Memory: </strong> 0.93 GiB\n",
       "                        </td>\n",
       "                    </tr>\n",
       "                    <tr>\n",
       "                        <td style=\"text-align: left;\">\n",
       "                            <strong>Nanny: </strong> tcp://127.0.0.1:64453\n",
       "                        </td>\n",
       "                        <td style=\"text-align: left;\"></td>\n",
       "                    </tr>\n",
       "                    <tr>\n",
       "                        <td colspan=\"2\" style=\"text-align: left;\">\n",
       "                            <strong>Local directory: </strong> C:\\Users\\tutuc\\AppData\\Local\\Temp\\dask-worker-space\\worker-hxpijk7x\n",
       "                        </td>\n",
       "                    </tr>\n",
       "\n",
       "                    \n",
       "\n",
       "                    \n",
       "\n",
       "                </table>\n",
       "            </details>\n",
       "            </div>\n",
       "        </div>\n",
       "        \n",
       "\n",
       "    </details>\n",
       "</div>\n",
       "\n",
       "        </details>\n",
       "    </div>\n",
       "</div>\n",
       "            </details>\n",
       "        \n",
       "\n",
       "    </div>\n",
       "</div>"
      ],
      "text/plain": [
       "<Client: 'tcp://127.0.0.1:64449' processes=3 threads=3, memory=2.79 GiB>"
      ]
     },
     "execution_count": 325,
     "metadata": {},
     "output_type": "execute_result"
    }
   ],
   "source": [
    "client"
   ]
  },
  {
   "cell_type": "markdown",
   "metadata": {},
   "source": [
    "### Carregando os dados em DataFrames do Dask"
   ]
  },
  {
   "cell_type": "code",
   "execution_count": 326,
   "metadata": {},
   "outputs": [],
   "source": [
    "dados_livros = dd.read_csv(f'{os.getcwd()}/Dataset/books_data.csv',\n",
    "                       sep=',',\n",
    "                       encoding='ISO-8859-1')"
   ]
  },
  {
   "cell_type": "code",
   "execution_count": 327,
   "metadata": {},
   "outputs": [],
   "source": [
    "reviews = dd.read_csv(f'{os.getcwd()}/Dataset/Books_rating.csv',\n",
    "                       sep=',',\n",
    "                       encoding='ISO-8859-1',\n",
    "                       dtype={'Id': 'category'})"
   ]
  },
  {
   "cell_type": "markdown",
   "metadata": {},
   "source": [
    "### Amostra dos dados"
   ]
  },
  {
   "cell_type": "code",
   "execution_count": 328,
   "metadata": {},
   "outputs": [
    {
     "data": {
      "text/html": [
       "<div>\n",
       "<style scoped>\n",
       "    .dataframe tbody tr th:only-of-type {\n",
       "        vertical-align: middle;\n",
       "    }\n",
       "\n",
       "    .dataframe tbody tr th {\n",
       "        vertical-align: top;\n",
       "    }\n",
       "\n",
       "    .dataframe thead th {\n",
       "        text-align: right;\n",
       "    }\n",
       "</style>\n",
       "<table border=\"1\" class=\"dataframe\">\n",
       "  <thead>\n",
       "    <tr style=\"text-align: right;\">\n",
       "      <th></th>\n",
       "      <th>Title</th>\n",
       "      <th>description</th>\n",
       "      <th>authors</th>\n",
       "      <th>image</th>\n",
       "      <th>previewLink</th>\n",
       "      <th>publisher</th>\n",
       "      <th>publishedDate</th>\n",
       "      <th>infoLink</th>\n",
       "      <th>categories</th>\n",
       "      <th>ratingsCount</th>\n",
       "    </tr>\n",
       "  </thead>\n",
       "  <tbody>\n",
       "    <tr>\n",
       "      <th>0</th>\n",
       "      <td>Its Only Art If Its Well Hung!</td>\n",
       "      <td>NaN</td>\n",
       "      <td>['Julie Strain']</td>\n",
       "      <td>http://books.google.com/books/content?id=DykPA...</td>\n",
       "      <td>http://books.google.nl/books?id=DykPAAAACAAJ&amp;d...</td>\n",
       "      <td>NaN</td>\n",
       "      <td>1996</td>\n",
       "      <td>http://books.google.nl/books?id=DykPAAAACAAJ&amp;d...</td>\n",
       "      <td>['Comics &amp; Graphic Novels']</td>\n",
       "      <td>NaN</td>\n",
       "    </tr>\n",
       "    <tr>\n",
       "      <th>1</th>\n",
       "      <td>Dr. Seuss: American Icon</td>\n",
       "      <td>Philip Nel takes a fascinating look into the k...</td>\n",
       "      <td>['Philip Nel']</td>\n",
       "      <td>http://books.google.com/books/content?id=IjvHQ...</td>\n",
       "      <td>http://books.google.nl/books?id=IjvHQsCn_pgC&amp;p...</td>\n",
       "      <td>A&amp;C Black</td>\n",
       "      <td>2005-01-01</td>\n",
       "      <td>http://books.google.nl/books?id=IjvHQsCn_pgC&amp;d...</td>\n",
       "      <td>['Biography &amp; Autobiography']</td>\n",
       "      <td>NaN</td>\n",
       "    </tr>\n",
       "    <tr>\n",
       "      <th>2</th>\n",
       "      <td>Wonderful Worship in Smaller Churches</td>\n",
       "      <td>This resource includes twelve principles in un...</td>\n",
       "      <td>['David R. Ray']</td>\n",
       "      <td>http://books.google.com/books/content?id=2tsDA...</td>\n",
       "      <td>http://books.google.nl/books?id=2tsDAAAACAAJ&amp;d...</td>\n",
       "      <td>NaN</td>\n",
       "      <td>2000</td>\n",
       "      <td>http://books.google.nl/books?id=2tsDAAAACAAJ&amp;d...</td>\n",
       "      <td>['Religion']</td>\n",
       "      <td>NaN</td>\n",
       "    </tr>\n",
       "    <tr>\n",
       "      <th>3</th>\n",
       "      <td>Whispers of the Wicked Saints</td>\n",
       "      <td>Julia Thomas finds her life spinning out of co...</td>\n",
       "      <td>['Veronica Haddon']</td>\n",
       "      <td>http://books.google.com/books/content?id=aRSIg...</td>\n",
       "      <td>http://books.google.nl/books?id=aRSIgJlq6JwC&amp;d...</td>\n",
       "      <td>iUniverse</td>\n",
       "      <td>2005-02</td>\n",
       "      <td>http://books.google.nl/books?id=aRSIgJlq6JwC&amp;d...</td>\n",
       "      <td>['Fiction']</td>\n",
       "      <td>NaN</td>\n",
       "    </tr>\n",
       "    <tr>\n",
       "      <th>4</th>\n",
       "      <td>Nation Dance: Religion, Identity and Cultural ...</td>\n",
       "      <td>NaN</td>\n",
       "      <td>['Edward Long']</td>\n",
       "      <td>NaN</td>\n",
       "      <td>http://books.google.nl/books?id=399SPgAACAAJ&amp;d...</td>\n",
       "      <td>NaN</td>\n",
       "      <td>2003-03-01</td>\n",
       "      <td>http://books.google.nl/books?id=399SPgAACAAJ&amp;d...</td>\n",
       "      <td>NaN</td>\n",
       "      <td>NaN</td>\n",
       "    </tr>\n",
       "  </tbody>\n",
       "</table>\n",
       "</div>"
      ],
      "text/plain": [
       "                                               Title  \\\n",
       "0                     Its Only Art If Its Well Hung!   \n",
       "1                           Dr. Seuss: American Icon   \n",
       "2              Wonderful Worship in Smaller Churches   \n",
       "3                      Whispers of the Wicked Saints   \n",
       "4  Nation Dance: Religion, Identity and Cultural ...   \n",
       "\n",
       "                                         description              authors  \\\n",
       "0                                                NaN     ['Julie Strain']   \n",
       "1  Philip Nel takes a fascinating look into the k...       ['Philip Nel']   \n",
       "2  This resource includes twelve principles in un...     ['David R. Ray']   \n",
       "3  Julia Thomas finds her life spinning out of co...  ['Veronica Haddon']   \n",
       "4                                                NaN      ['Edward Long']   \n",
       "\n",
       "                                               image  \\\n",
       "0  http://books.google.com/books/content?id=DykPA...   \n",
       "1  http://books.google.com/books/content?id=IjvHQ...   \n",
       "2  http://books.google.com/books/content?id=2tsDA...   \n",
       "3  http://books.google.com/books/content?id=aRSIg...   \n",
       "4                                                NaN   \n",
       "\n",
       "                                         previewLink  publisher publishedDate  \\\n",
       "0  http://books.google.nl/books?id=DykPAAAACAAJ&d...        NaN          1996   \n",
       "1  http://books.google.nl/books?id=IjvHQsCn_pgC&p...  A&C Black    2005-01-01   \n",
       "2  http://books.google.nl/books?id=2tsDAAAACAAJ&d...        NaN          2000   \n",
       "3  http://books.google.nl/books?id=aRSIgJlq6JwC&d...  iUniverse       2005-02   \n",
       "4  http://books.google.nl/books?id=399SPgAACAAJ&d...        NaN    2003-03-01   \n",
       "\n",
       "                                            infoLink  \\\n",
       "0  http://books.google.nl/books?id=DykPAAAACAAJ&d...   \n",
       "1  http://books.google.nl/books?id=IjvHQsCn_pgC&d...   \n",
       "2  http://books.google.nl/books?id=2tsDAAAACAAJ&d...   \n",
       "3  http://books.google.nl/books?id=aRSIgJlq6JwC&d...   \n",
       "4  http://books.google.nl/books?id=399SPgAACAAJ&d...   \n",
       "\n",
       "                      categories  ratingsCount  \n",
       "0    ['Comics & Graphic Novels']           NaN  \n",
       "1  ['Biography & Autobiography']           NaN  \n",
       "2                   ['Religion']           NaN  \n",
       "3                    ['Fiction']           NaN  \n",
       "4                            NaN           NaN  "
      ]
     },
     "execution_count": 328,
     "metadata": {},
     "output_type": "execute_result"
    }
   ],
   "source": [
    "dados_livros.head()"
   ]
  },
  {
   "cell_type": "code",
   "execution_count": 329,
   "metadata": {},
   "outputs": [
    {
     "data": {
      "text/html": [
       "<div>\n",
       "<style scoped>\n",
       "    .dataframe tbody tr th:only-of-type {\n",
       "        vertical-align: middle;\n",
       "    }\n",
       "\n",
       "    .dataframe tbody tr th {\n",
       "        vertical-align: top;\n",
       "    }\n",
       "\n",
       "    .dataframe thead th {\n",
       "        text-align: right;\n",
       "    }\n",
       "</style>\n",
       "<table border=\"1\" class=\"dataframe\">\n",
       "  <thead>\n",
       "    <tr style=\"text-align: right;\">\n",
       "      <th></th>\n",
       "      <th>Id</th>\n",
       "      <th>Title</th>\n",
       "      <th>Price</th>\n",
       "      <th>User_id</th>\n",
       "      <th>profileName</th>\n",
       "      <th>review/helpfulness</th>\n",
       "      <th>review/score</th>\n",
       "      <th>review/time</th>\n",
       "      <th>review/summary</th>\n",
       "      <th>review/text</th>\n",
       "    </tr>\n",
       "  </thead>\n",
       "  <tbody>\n",
       "    <tr>\n",
       "      <th>0</th>\n",
       "      <td>1882931173</td>\n",
       "      <td>Its Only Art If Its Well Hung!</td>\n",
       "      <td>NaN</td>\n",
       "      <td>AVCGYZL8FQQTD</td>\n",
       "      <td>Jim of Oz \"jim-of-oz\"</td>\n",
       "      <td>7/7</td>\n",
       "      <td>4.0</td>\n",
       "      <td>940636800</td>\n",
       "      <td>Nice collection of Julie Strain images</td>\n",
       "      <td>This is only for Julie Strain fans. It's a col...</td>\n",
       "    </tr>\n",
       "    <tr>\n",
       "      <th>1</th>\n",
       "      <td>0826414346</td>\n",
       "      <td>Dr. Seuss: American Icon</td>\n",
       "      <td>NaN</td>\n",
       "      <td>A30TK6U7DNS82R</td>\n",
       "      <td>Kevin Killian</td>\n",
       "      <td>10/10</td>\n",
       "      <td>5.0</td>\n",
       "      <td>1095724800</td>\n",
       "      <td>Really Enjoyed It</td>\n",
       "      <td>I don't care much for Dr. Seuss but after read...</td>\n",
       "    </tr>\n",
       "    <tr>\n",
       "      <th>2</th>\n",
       "      <td>0826414346</td>\n",
       "      <td>Dr. Seuss: American Icon</td>\n",
       "      <td>NaN</td>\n",
       "      <td>A3UH4UZ4RSVO82</td>\n",
       "      <td>John Granger</td>\n",
       "      <td>10/11</td>\n",
       "      <td>5.0</td>\n",
       "      <td>1078790400</td>\n",
       "      <td>Essential for every personal and Public Library</td>\n",
       "      <td>If people become the books they read and if \"t...</td>\n",
       "    </tr>\n",
       "    <tr>\n",
       "      <th>3</th>\n",
       "      <td>0826414346</td>\n",
       "      <td>Dr. Seuss: American Icon</td>\n",
       "      <td>NaN</td>\n",
       "      <td>A2MVUWT453QH61</td>\n",
       "      <td>Roy E. Perry \"amateur philosopher\"</td>\n",
       "      <td>7/7</td>\n",
       "      <td>4.0</td>\n",
       "      <td>1090713600</td>\n",
       "      <td>Phlip Nel gives silly Seuss a serious treatment</td>\n",
       "      <td>Theodore Seuss Geisel (1904-1991), aka &amp;quot;D...</td>\n",
       "    </tr>\n",
       "    <tr>\n",
       "      <th>4</th>\n",
       "      <td>0826414346</td>\n",
       "      <td>Dr. Seuss: American Icon</td>\n",
       "      <td>NaN</td>\n",
       "      <td>A22X4XUPKF66MR</td>\n",
       "      <td>D. H. Richards \"ninthwavestore\"</td>\n",
       "      <td>3/3</td>\n",
       "      <td>4.0</td>\n",
       "      <td>1107993600</td>\n",
       "      <td>Good academic overview</td>\n",
       "      <td>Philip Nel - Dr. Seuss: American IconThis is b...</td>\n",
       "    </tr>\n",
       "  </tbody>\n",
       "</table>\n",
       "</div>"
      ],
      "text/plain": [
       "           Id                           Title  Price         User_id  \\\n",
       "0  1882931173  Its Only Art If Its Well Hung!    NaN   AVCGYZL8FQQTD   \n",
       "1  0826414346        Dr. Seuss: American Icon    NaN  A30TK6U7DNS82R   \n",
       "2  0826414346        Dr. Seuss: American Icon    NaN  A3UH4UZ4RSVO82   \n",
       "3  0826414346        Dr. Seuss: American Icon    NaN  A2MVUWT453QH61   \n",
       "4  0826414346        Dr. Seuss: American Icon    NaN  A22X4XUPKF66MR   \n",
       "\n",
       "                          profileName review/helpfulness  review/score  \\\n",
       "0               Jim of Oz \"jim-of-oz\"                7/7           4.0   \n",
       "1                       Kevin Killian              10/10           5.0   \n",
       "2                        John Granger              10/11           5.0   \n",
       "3  Roy E. Perry \"amateur philosopher\"                7/7           4.0   \n",
       "4     D. H. Richards \"ninthwavestore\"                3/3           4.0   \n",
       "\n",
       "   review/time                                   review/summary  \\\n",
       "0    940636800           Nice collection of Julie Strain images   \n",
       "1   1095724800                                Really Enjoyed It   \n",
       "2   1078790400  Essential for every personal and Public Library   \n",
       "3   1090713600  Phlip Nel gives silly Seuss a serious treatment   \n",
       "4   1107993600                           Good academic overview   \n",
       "\n",
       "                                         review/text  \n",
       "0  This is only for Julie Strain fans. It's a col...  \n",
       "1  I don't care much for Dr. Seuss but after read...  \n",
       "2  If people become the books they read and if \"t...  \n",
       "3  Theodore Seuss Geisel (1904-1991), aka &quot;D...  \n",
       "4  Philip Nel - Dr. Seuss: American IconThis is b...  "
      ]
     },
     "execution_count": 329,
     "metadata": {},
     "output_type": "execute_result"
    }
   ],
   "source": [
    "reviews.head()"
   ]
  },
  {
   "cell_type": "markdown",
   "metadata": {},
   "source": [
    "### Dicionário de Dados"
   ]
  },
  {
   "cell_type": "markdown",
   "metadata": {},
   "source": [
    "#### Descrição dos dados do dataset \"books_data.csv\"\n",
    "\n",
    "| Features | Descrição |\n",
    "| --- | --- |\n",
    "| Title | Título do Livro |\n",
    "| description | Descrição do Livro |\n",
    "| authors | Nome dos autores do livro |\n",
    "| image | URL da capa do livro |\n",
    "| previewLink | link para acessar o livro no Google Books |\n",
    "| publisher | Nome da Editora |\n",
    "| publishedDate | Data de Publicação |\n",
    "| infoLink | Link para obter mais informações sobre o livro |\n",
    "| categories | Gêneros do livro |\n",
    "| ratingsCount | Número de avaliações do livro |\n",
    "\n",
    "#### Descrição dos dados do dataset \"Books_rating.csv\"\n",
    "\n",
    "| Features | Descrição |\n",
    "| --- | --- |\n",
    "| id | Id do Livro |\n",
    "| Title | Título do Livro |\n",
    "| Price | Preço do Livro |\n",
    "| User_id | Id do usuário que avaliou o livro |\n",
    "| profileName | Nome do usuário que avaliou o livro |\n",
    "| review/helpfulness | Avaliação de utilidade da avaliação, ex: 2/3 |\n",
    "| review/score | Nota do livro de 0 a 5 |\n",
    "| review/time | Data da avaliação |\n",
    "| review/summary | Resumo da avaliação |\n",
    "| review/text | Texto da avaliação |\n",
    "\n",
    "\n"
   ]
  },
  {
   "cell_type": "markdown",
   "metadata": {},
   "source": [
    "### Inferindo o Schema dos DataFrames"
   ]
  },
  {
   "cell_type": "code",
   "execution_count": 330,
   "metadata": {},
   "outputs": [
    {
     "data": {
      "text/plain": [
       "Title             object\n",
       "description       object\n",
       "authors           object\n",
       "image             object\n",
       "previewLink       object\n",
       "publisher         object\n",
       "publishedDate     object\n",
       "infoLink          object\n",
       "categories        object\n",
       "ratingsCount     float64\n",
       "dtype: object"
      ]
     },
     "execution_count": 330,
     "metadata": {},
     "output_type": "execute_result"
    }
   ],
   "source": [
    "dados_livros.dtypes"
   ]
  },
  {
   "cell_type": "code",
   "execution_count": 331,
   "metadata": {},
   "outputs": [
    {
     "data": {
      "text/plain": [
       "Id                    category\n",
       "Title                   object\n",
       "Price                  float64\n",
       "User_id                 object\n",
       "profileName             object\n",
       "review/helpfulness      object\n",
       "review/score           float64\n",
       "review/time              int64\n",
       "review/summary          object\n",
       "review/text             object\n",
       "dtype: object"
      ]
     },
     "execution_count": 331,
     "metadata": {},
     "output_type": "execute_result"
    }
   ],
   "source": [
    "reviews.dtypes"
   ]
  },
  {
   "cell_type": "markdown",
   "metadata": {},
   "source": [
    "### Quantidade de registros por DataFrame"
   ]
  },
  {
   "cell_type": "code",
   "execution_count": 332,
   "metadata": {},
   "outputs": [
    {
     "name": "stdout",
     "output_type": "stream",
     "text": [
      "Tamanho do dataset Reviews:\n",
      "Número de linhas: 3000000\n",
      "Número de colunas: 10\n",
      "Tamanho do dataset Dados Livros:\n",
      "Número de linhas: 212404\n",
      "Número de colunas: 10\n"
     ]
    }
   ],
   "source": [
    "# Verificando o tamanho do dataset\n",
    "print('Tamanho do dataset Reviews:')\n",
    "print(f'Número de linhas: {len(reviews)}')\n",
    "print(f'Número de colunas: {len(reviews.columns)}')\n",
    "print('Tamanho do dataset Dados Livros:')\n",
    "print(f'Número de linhas: {len(dados_livros)}')\n",
    "print(f'Número de colunas: {len(dados_livros.columns)}')\n"
   ]
  },
  {
   "cell_type": "markdown",
   "metadata": {},
   "source": [
    "### 4. Análise Exploratória - Dados do Dataset \"books_data.csv\""
   ]
  },
  {
   "cell_type": "markdown",
   "metadata": {},
   "source": [
    "#### 4.1. Palavras mais frequentes nos títulos dos livros"
   ]
  },
  {
   "cell_type": "code",
   "execution_count": 333,
   "metadata": {},
   "outputs": [
    {
     "data": {
      "image/png": "[encoded data removed]",
      "text/plain": [
       "<Figure size 720x360 with 1 Axes>"
      ]
     },
     "metadata": {
      "needs_background": "light"
     },
     "output_type": "display_data"
    }
   ],
   "source": [
    "palavras_titulo = dados_livros['Title'].str.lower().str.cat(sep=' ').compute().split()\n",
    "palavras_titulo_df = pd.DataFrame(palavras_titulo, columns=['palavras'])\n",
    "\n",
    "top_20_palavras_porcentagem = palavras_titulo_df['palavras'].value_counts().head(20)\n",
    "\n",
    "plt.figure(figsize=(10,5))\n",
    "plt.title('Top 20 palavras mais utilizadas nos títulos dos livros')\n",
    "plt.xlabel('Palavras')\n",
    "plt.ylabel('Número de ocorrências')\n",
    "top_20_palavras_porcentagem.plot.bar(color='teal', alpha=0.5)\n",
    "plt.show()\n"
   ]
  },
  {
   "cell_type": "markdown",
   "metadata": {},
   "source": [
    "Como pode-se observar no gráfico, as palavras mais comuns nos títulos dos livros são artigos e conectivos gramaticais (a, o, e, de, para, com, etc).\n",
    "Esse resultado é esperado, pois essas palavras são muito comuns em português e inglês, e são usadas para ligar palavras e formar frases.  \n",
    "Além disso, é possível observar que a palavra \"The\" aparece com muito mais frequêcia do que o artigo \"a\", o que indica que a maioria dos livros tem um substantivo definido no título.  \n",
    "As palavras mais frequentes nos títulos dos livros que não são artigos e conectivos gramaticais foram:\n",
    "- \"guia\": que indica grande presença de livros como guias de estudo ou guias de viagem \n",
    "- \"livro\"\n",
    "- \"series\": que indica grande presença de livros de uma série\n",
    "- \"vida\": que indica grande presença de biografias\n",
    "- \"história\": que indica grande presença de livros de história de personagens famosos ou de fatos históricos\n"
   ]
  },
  {
   "cell_type": "markdown",
   "metadata": {},
   "source": [
    "#### 4.2. Palavras mais frequentes nas descrições dos livros"
   ]
  },
  {
   "cell_type": "code",
   "execution_count": 334,
   "metadata": {},
   "outputs": [
    {
     "data": {
      "image/png": "[encoded data removed]",
      "text/plain": [
       "<Figure size 720x360 with 1 Axes>"
      ]
     },
     "metadata": {
      "needs_background": "light"
     },
     "output_type": "display_data"
    }
   ],
   "source": [
    "palavras_descricao = dados_livros['description'].str.lower().str.cat(sep=' ').compute().split()\n",
    "palavras_descricao_df = pd.DataFrame(palavras_descricao, columns=['palavras'])\n",
    "\n",
    "top_20_palavras_porcentagem = palavras_descricao_df['palavras'].value_counts().head(20)\n",
    "\n",
    "plt.figure(figsize=(10,5))\n",
    "plt.title('Top 20 palavras mais utilizadas nas descrições dos livros')\n",
    "plt.xlabel('Palavras')\n",
    "plt.ylabel('Número de ocorrências')\n",
    "top_20_palavras_porcentagem.plot.bar(color='green', alpha=0.5)\n",
    "plt.show()"
   ]
  },
  {
   "cell_type": "markdown",
   "metadata": {},
   "source": [
    "Assim como no título dos livros, as palavras mais comuns nas descrições dos livros são artigos e conectivos gramaticais (a, o, e, de, para, com, etc).\n",
    "Esse resultado é esperado, pois essas palavras são muito comuns em português e inglês, e são usadas para ligar palavras e formar frases.\n",
    "  \n",
    "Diferentemente do título dos livros, não foi possível observar uma palavra que aparece com muita frequência sem ser artigo ou conectivo gramatical."
   ]
  },
  {
   "cell_type": "markdown",
   "metadata": {},
   "source": [
    "#### 4.3. Autores mais frequentes nos livros da base de dados"
   ]
  },
  {
   "cell_type": "code",
   "execution_count": 335,
   "metadata": {},
   "outputs": [
    {
     "data": {
      "image/png": "[encoded data removed]",
      "text/plain": [
       "<Figure size 720x360 with 1 Axes>"
      ]
     },
     "metadata": {
      "needs_background": "light"
     },
     "output_type": "display_data"
    }
   ],
   "source": [
    "autores = dados_livros['authors']\n",
    "autores_df = pd.DataFrame(autores.compute())\n",
    "top_20_autores = autores_df['authors'].value_counts().head(20)\n",
    "\n",
    "plt.figure(figsize=(10,5))\n",
    "plt.title('Top 20 autores mais frequentes na base de dados')\n",
    "plt.xlabel('Autores')\n",
    "plt.ylabel('Número de ocorrências')\n",
    "top_20_autores.plot.bar(color='indigo', alpha=0.5)\n",
    "plt.show()\n"
   ]
  },
  {
   "cell_type": "markdown",
   "metadata": {},
   "source": [
    "Como pode-se observar no gráfico, os autores mais frequentes nos livros da base de dados são:\n",
    "- \"Rose Arny\" : que curiosamente é um nome fictício, e uma pesquisa rápida no Google não encontrou nenhum resultado famoso relacionado a esse nome.\n",
    "- \"William Shakespeare\" : que é um dos autores mais famosos da literatura mundial na história da humanidade.\n",
    "- \"Library of Congress\" : que é uma instituição que tem como objetivo preservar e disseminar o conhecimento, e que provavelmente é responsável por publicar livros de domínio público."
   ]
  },
  {
   "cell_type": "markdown",
   "metadata": {},
   "source": [
    "#### 4.4. Editoras mais frequentes nos livros da base de dados"
   ]
  },
  {
   "cell_type": "code",
   "execution_count": 336,
   "metadata": {},
   "outputs": [
    {
     "data": {
      "image/png": "[encoded data removed]",
      "text/plain": [
       "<Figure size 720x360 with 1 Axes>"
      ]
     },
     "metadata": {
      "needs_background": "light"
     },
     "output_type": "display_data"
    }
   ],
   "source": [
    "editoras = dados_livros['publisher']\n",
    "editoras_df = pd.DataFrame(editoras.compute())\n",
    "top_20_editoras = editoras_df['publisher'].value_counts().head(20)\n",
    "\n",
    "plt.figure(figsize=(10,5))\n",
    "plt.title('Top 20 editoras mais frequentes na base de dados')\n",
    "plt.xlabel('Editoras')\n",
    "plt.ylabel('Número de ocorrências')\n",
    "top_20_editoras.plot.bar(color='orange', alpha=0.5)\n",
    "plt.show()\n"
   ]
  },
  {
   "cell_type": "markdown",
   "metadata": {},
   "source": [
    "Como pode-se observar no gráfico, as editoras mais frequentes nos livros da base de dados são:\n",
    "- \"Simon & Schuster\" : que é uma das maiores editoras do mundo.\n",
    "- \"Penguin\" : que é também uma das maiores editoras do mundo, famosa por publicar livros clássicos da literatura mundial.\n",
    "- \"Routledge\" : que é uma editora britânica especializada em livros acadêmicos.\n"
   ]
  },
  {
   "cell_type": "markdown",
   "metadata": {},
   "source": [
    "#### 4.5. Quantidade de livros lançados por ano (Data de Publicação)"
   ]
  },
  {
   "cell_type": "code",
   "execution_count": 337,
   "metadata": {},
   "outputs": [
    {
     "data": {
      "image/png": "[encoded data removed]",
      "text/plain": [
       "<Figure size 720x360 with 1 Axes>"
      ]
     },
     "metadata": {
      "needs_background": "light"
     },
     "output_type": "display_data"
    }
   ],
   "source": [
    "# group by para agrupar os livros por ano de publicação\n",
    "dados_livros_ano = dados_livros.copy()\n",
    "dados_livros_ano['publishedDate'] = dados_livros_ano['publishedDate'].astype(str)\n",
    "dados_livros_ano['publishedDate'] = dados_livros_ano['publishedDate'].str[:4]\n",
    "#Remove nan \n",
    "dados_livros_ano = dados_livros_ano[dados_livros_ano['publishedDate'] != 'nan']\n",
    "#Remove os livros com caracteres que não são números\n",
    "dados_livros_ano = dados_livros_ano[dados_livros_ano['publishedDate'].str.isnumeric()]\n",
    "dados_livros_ano['publishedDate'] = dados_livros_ano['publishedDate'].astype(int)\n",
    "\n",
    "# Agrupando os livros por ano de publicação\n",
    "dados_livros_ano_group = dados_livros_ano.groupby('publishedDate').count().compute()\n",
    "dados_livros_ano_group = dados_livros_ano_group.reset_index()\n",
    "dados_livros_ano_group = dados_livros_ano_group.sort_values(by='publishedDate', ascending=True)\n",
    "dados_livros_ano_group = dados_livros_ano_group.rename(columns={'Title': 'quantidade', 'publishedDate': 'ano'})\n",
    "dados_livros_ano_group = dados_livros_ano_group[['ano', 'quantidade']]\n",
    "\n",
    "\n",
    "\n",
    "plt.figure(figsize=(10,5))\n",
    "plt.title('Quantidade de livros publicados por ano')\n",
    "plt.xlabel('Ano')\n",
    "plt.ylabel('Quantidade de livros')\n",
    "plt.plot(dados_livros_ano_group['ano'], dados_livros_ano_group['quantidade'], color='red', alpha=0.5)\n",
    "plt.show()\n",
    "\n"
   ]
  },
  {
   "cell_type": "markdown",
   "metadata": {},
   "source": [
    "Como pode-se observar no gráfico, a quantidade de livros lançados por ano tem aumentado consideravelmente desde os anos 90.\n",
    "Isso pode ser explicado pelo aumento da popularidade da internet, que possibilitou a publicação de livros de forma mais fácil e rápida, e também pelo aumento da popularidade da leitura, que possibilitou a publicação de mais livros.\n",
    "\n",
    "O declínio radical na quantidade de livros lançados a partir de 2022 pode ser explicado pela existência de poucos livros que ainda não foram lançados, mas que já estão disponíveis para pré-venda no Google Books. Por exemplo, a base de dados contém 1 livro que está com o ano de publicação marcado como 2030."
   ]
  },
  {
   "cell_type": "code",
   "execution_count": 338,
   "metadata": {},
   "outputs": [
    {
     "data": {
      "image/png": "[encoded data removed]",
      "text/plain": [
       "<Figure size 720x360 with 1 Axes>"
      ]
     },
     "metadata": {
      "needs_background": "light"
     },
     "output_type": "display_data"
    }
   ],
   "source": [
    "dados_livros_ano_group = dados_livros_ano_group.sort_values(by='quantidade', ascending=False).head(20)\n",
    "dados_livros_ano_group = dados_livros_ano_group.reset_index(drop=True)\n",
    "\n",
    "plt.figure(figsize=(10,5))\n",
    "plt.title('Top 20 anos com mais livros publicados')\n",
    "plt.xlabel('Ano')\n",
    "plt.ylabel('Quantidade de livros')\n",
    "plt.bar(dados_livros_ano_group['ano'].astype(str), dados_livros_ano_group['quantidade'], color='blue', alpha=0.5)\n",
    "plt.show()\n",
    "\n",
    "\n"
   ]
  },
  {
   "cell_type": "markdown",
   "metadata": {},
   "source": [
    "Como pode-se observar no gráfico, a quantidade de livros lançados por ano tem aumentado consideravelmente desde os anos 90. A faixa entre os anos 2000 e 2005 é a que possui a maior quantidade de livros lançados.\n",
    "  \n",
    "O ano de 2004 é o que possui a maior quantidade de livros lançado, com 8168 livros."
   ]
  },
  {
   "cell_type": "markdown",
   "metadata": {},
   "source": [
    "#### 4.6. Autor, Gênero e Editora mais frequente por ano nos últimos 10 anos (Data de Publicação)\n"
   ]
  },
  {
   "cell_type": "code",
   "execution_count": 339,
   "metadata": {},
   "outputs": [
    {
     "name": "stderr",
     "output_type": "stream",
     "text": [
      "2022-11-29 17:07:07,736 - distributed.worker_memory - WARNING - Worker tcp://127.0.0.1:64482 (pid=20220) exceeded 95% memory budget. Restarting...\n",
      "2022-11-29 17:07:07,884 - distributed.nanny - WARNING - Restarting worker\n"
     ]
    },
    {
     "data": {
      "text/html": [
       "<div>\n",
       "<style scoped>\n",
       "    .dataframe tbody tr th:only-of-type {\n",
       "        vertical-align: middle;\n",
       "    }\n",
       "\n",
       "    .dataframe tbody tr th {\n",
       "        vertical-align: top;\n",
       "    }\n",
       "\n",
       "    .dataframe thead th {\n",
       "        text-align: right;\n",
       "    }\n",
       "</style>\n",
       "<table border=\"1\" class=\"dataframe\">\n",
       "  <thead>\n",
       "    <tr style=\"text-align: right;\">\n",
       "      <th></th>\n",
       "      <th>Ano</th>\n",
       "      <th>Gênero mais frequente</th>\n",
       "      <th>Autor mais publicado</th>\n",
       "      <th>Editora mais publicada</th>\n",
       "    </tr>\n",
       "  </thead>\n",
       "  <tbody>\n",
       "    <tr>\n",
       "      <th>24</th>\n",
       "      <td>2013</td>\n",
       "      <td>['Fiction']</td>\n",
       "      <td>['Zondervan Publishing House', 'Zondervan']</td>\n",
       "      <td>Routledge</td>\n",
       "    </tr>\n",
       "    <tr>\n",
       "      <th>30</th>\n",
       "      <td>2014</td>\n",
       "      <td>['Fiction']</td>\n",
       "      <td>['Lauren Owen']</td>\n",
       "      <td>Open Road Media</td>\n",
       "    </tr>\n",
       "    <tr>\n",
       "      <th>15</th>\n",
       "      <td>2015</td>\n",
       "      <td>['Fiction']</td>\n",
       "      <td>['DK']</td>\n",
       "      <td>Routledge</td>\n",
       "    </tr>\n",
       "    <tr>\n",
       "      <th>12</th>\n",
       "      <td>2016</td>\n",
       "      <td>['Fiction']</td>\n",
       "      <td>['Agatha Christie']</td>\n",
       "      <td>Simon and Schuster</td>\n",
       "    </tr>\n",
       "    <tr>\n",
       "      <th>22</th>\n",
       "      <td>2017</td>\n",
       "      <td>['Fiction']</td>\n",
       "      <td>['Phyllis A. Whitney']</td>\n",
       "      <td>Routledge</td>\n",
       "    </tr>\n",
       "    <tr>\n",
       "      <th>9</th>\n",
       "      <td>2018</td>\n",
       "      <td>['Fiction']</td>\n",
       "      <td>['Wilbur Smith']</td>\n",
       "      <td>Routledge</td>\n",
       "    </tr>\n",
       "    <tr>\n",
       "      <th>57</th>\n",
       "      <td>2019</td>\n",
       "      <td>['Fiction']</td>\n",
       "      <td>['Rey Terciero']</td>\n",
       "      <td>Good Press</td>\n",
       "    </tr>\n",
       "    <tr>\n",
       "      <th>16</th>\n",
       "      <td>2020</td>\n",
       "      <td>['Fiction']</td>\n",
       "      <td>['Barry Levine']</td>\n",
       "      <td>Routledge</td>\n",
       "    </tr>\n",
       "    <tr>\n",
       "      <th>45</th>\n",
       "      <td>2021</td>\n",
       "      <td>['Fiction']</td>\n",
       "      <td>['Edgar Rice Burroughs']</td>\n",
       "      <td>Simon and Schuster</td>\n",
       "    </tr>\n",
       "    <tr>\n",
       "      <th>79</th>\n",
       "      <td>2022</td>\n",
       "      <td>['Fiction']</td>\n",
       "      <td>['Jim Kjelgaard']</td>\n",
       "      <td>DigiCat</td>\n",
       "    </tr>\n",
       "  </tbody>\n",
       "</table>\n",
       "</div>"
      ],
      "text/plain": [
       "     Ano Gênero mais frequente                         Autor mais publicado  \\\n",
       "24  2013           ['Fiction']  ['Zondervan Publishing House', 'Zondervan']   \n",
       "30  2014           ['Fiction']                              ['Lauren Owen']   \n",
       "15  2015           ['Fiction']                                       ['DK']   \n",
       "12  2016           ['Fiction']                          ['Agatha Christie']   \n",
       "22  2017           ['Fiction']                       ['Phyllis A. Whitney']   \n",
       "9   2018           ['Fiction']                             ['Wilbur Smith']   \n",
       "57  2019           ['Fiction']                             ['Rey Terciero']   \n",
       "16  2020           ['Fiction']                             ['Barry Levine']   \n",
       "45  2021           ['Fiction']                     ['Edgar Rice Burroughs']   \n",
       "79  2022           ['Fiction']                            ['Jim Kjelgaard']   \n",
       "\n",
       "   Editora mais publicada  \n",
       "24              Routledge  \n",
       "30        Open Road Media  \n",
       "15              Routledge  \n",
       "12     Simon and Schuster  \n",
       "22              Routledge  \n",
       "9               Routledge  \n",
       "57             Good Press  \n",
       "16              Routledge  \n",
       "45     Simon and Schuster  \n",
       "79                DigiCat  "
      ]
     },
     "execution_count": 339,
     "metadata": {},
     "output_type": "execute_result"
    }
   ],
   "source": [
    "# group by para agrupar os livro por ano\n",
    "\n",
    "anos = dados_livros_ano['publishedDate'].unique().compute()\n",
    "anos = anos.sort_values()\n",
    "anos = anos[anos <= 2022]\n",
    "ultimos_10_anos = anos[-10:]\n",
    "autor_mais_publicado = []\n",
    "editora_mais_publicada = []\n",
    "generos_mais_freq = []\n",
    "\n",
    "\n",
    "for ano in ultimos_10_anos:\n",
    "    dados_livros_ano_filtrado = dados_livros_ano[dados_livros_ano['publishedDate'] == ano]\n",
    "    \n",
    "    # Verificando os gêneros mais frequentes naquele ano\n",
    "    generos = dados_livros_ano_filtrado['categories']\n",
    "    generos_df = pd.DataFrame(generos.compute())\n",
    "    top_1_genero = generos_df['categories'].value_counts().head(1)\n",
    "    generos_mais_freq.append(top_1_genero.index[0])\n",
    "\n",
    "    # Verificando o autor mais publicado naquele ano\n",
    "    autores = dados_livros_ano_filtrado['authors']\n",
    "    autores_df = pd.DataFrame(autores.compute())\n",
    "    top_1_autor = autores_df['authors'].value_counts().head(1)\n",
    "    autor_mais_publicado.append(top_1_autor.index[0])\n",
    "\n",
    "    # Verificando a editora mais publicada naquele ano\n",
    "    editoras = dados_livros_ano_filtrado['publisher']\n",
    "    editoras_df = pd.DataFrame(editoras.compute())\n",
    "    top_1_editora = editoras_df['publisher'].value_counts().head(1)\n",
    "    editora_mais_publicada.append(top_1_editora.index[0])\n",
    "\n",
    "\n",
    "\n",
    "d = {'Ano': ultimos_10_anos, 'Gênero mais frequente': generos_mais_freq, 'Autor mais publicado': autor_mais_publicado, 'Editora mais publicada': editora_mais_publicada}\n",
    "\n",
    "generos_mais_freq_df = pd.DataFrame(data=d)\n",
    "generos_mais_freq_df\n",
    "\n"
   ]
  },
  {
   "cell_type": "markdown",
   "metadata": {},
   "source": [
    "A tabela acima mostra o autor, gênero e editora mais frequente por ano nos últimos 10 anos (Data de Publicação).\n",
    "  \n",
    "Como pode-se observar, o gênero mais frequente nos últimos 10 anos é \"Ficção\" em todos os anos."
   ]
  },
  {
   "cell_type": "markdown",
   "metadata": {},
   "source": [
    "#### 4.6. Gêneros mais frequentes nos livros da base de dados"
   ]
  },
  {
   "cell_type": "code",
   "execution_count": 340,
   "metadata": {},
   "outputs": [
    {
     "data": {
      "image/png": "[encoded data removed]",
      "text/plain": [
       "<Figure size 720x360 with 1 Axes>"
      ]
     },
     "metadata": {
      "needs_background": "light"
     },
     "output_type": "display_data"
    }
   ],
   "source": [
    "generos = dados_livros['categories']\n",
    "generos_df = pd.DataFrame(generos.compute())\n",
    "top_20_generos = generos_df['categories'].value_counts().head(20)\n",
    "\n",
    "plt.figure(figsize=(10,5))\n",
    "plt.title('Top 20 gêneros mais frequentes na base de dados')\n",
    "plt.xlabel('Gêneros')\n",
    "plt.ylabel('Número de ocorrências')\n",
    "top_20_generos.plot.bar(color='purple', alpha=0.5)\n",
    "plt.show()\n"
   ]
  },
  {
   "cell_type": "markdown",
   "metadata": {},
   "source": [
    "Como pode-se observar no gráfico, os gêneros mais frequentes nos livros da base de dados são:\n",
    "\n",
    "- \"Ficção\" : que é um gênero literário que conta uma história imaginária, com personagens fictícios, e que pode ser classificado em subgêneros como ficção científica, ficção histórica, ficção fantástica, ficção de terror, etc.\n",
    "- \"Religião\" : que é um gênero literário que conta histórias sobre a vida de personagens religiosos, ou sobre fatos históricos relacionados a religião. Esse resultado é esperado, pois a Bíblia, por exemplo, é o livro mais vendido da história da humanidade.\n",
    "- \"História\" : que é um gênero literário que conta histórias sobre fatos históricos, ou sobre a vida de personagens históricos. "
   ]
  },
  {
   "cell_type": "markdown",
   "metadata": {},
   "source": [
    "#### 4.7. Número de avaliações dos livros por gênero - Top 10 Gêneros com mais livros na base de dados\n"
   ]
  },
  {
   "cell_type": "code",
   "execution_count": 341,
   "metadata": {},
   "outputs": [
    {
     "data": {
      "text/html": [
       "<div>\n",
       "<style scoped>\n",
       "    .dataframe tbody tr th:only-of-type {\n",
       "        vertical-align: middle;\n",
       "    }\n",
       "\n",
       "    .dataframe tbody tr th {\n",
       "        vertical-align: top;\n",
       "    }\n",
       "\n",
       "    .dataframe thead th {\n",
       "        text-align: right;\n",
       "    }\n",
       "</style>\n",
       "<table border=\"1\" class=\"dataframe\">\n",
       "  <thead>\n",
       "    <tr style=\"text-align: right;\">\n",
       "      <th></th>\n",
       "      <th>Gênero</th>\n",
       "      <th>Média de número de avaliações</th>\n",
       "    </tr>\n",
       "  </thead>\n",
       "  <tbody>\n",
       "    <tr>\n",
       "      <th>4</th>\n",
       "      <td>['Biography &amp; Autobiography']</td>\n",
       "      <td>38.170281</td>\n",
       "    </tr>\n",
       "    <tr>\n",
       "      <th>0</th>\n",
       "      <td>['Fiction']</td>\n",
       "      <td>35.336751</td>\n",
       "    </tr>\n",
       "    <tr>\n",
       "      <th>3</th>\n",
       "      <td>['Juvenile Fiction']</td>\n",
       "      <td>28.556301</td>\n",
       "    </tr>\n",
       "    <tr>\n",
       "      <th>5</th>\n",
       "      <td>['Business &amp; Economics']</td>\n",
       "      <td>22.601770</td>\n",
       "    </tr>\n",
       "    <tr>\n",
       "      <th>9</th>\n",
       "      <td>['Science']</td>\n",
       "      <td>17.161560</td>\n",
       "    </tr>\n",
       "    <tr>\n",
       "      <th>8</th>\n",
       "      <td>['Juvenile Nonfiction']</td>\n",
       "      <td>14.865209</td>\n",
       "    </tr>\n",
       "    <tr>\n",
       "      <th>2</th>\n",
       "      <td>['History']</td>\n",
       "      <td>12.299735</td>\n",
       "    </tr>\n",
       "    <tr>\n",
       "      <th>7</th>\n",
       "      <td>['Social Science']</td>\n",
       "      <td>11.177455</td>\n",
       "    </tr>\n",
       "    <tr>\n",
       "      <th>1</th>\n",
       "      <td>['Religion']</td>\n",
       "      <td>10.792749</td>\n",
       "    </tr>\n",
       "    <tr>\n",
       "      <th>6</th>\n",
       "      <td>['Computers']</td>\n",
       "      <td>3.105780</td>\n",
       "    </tr>\n",
       "  </tbody>\n",
       "</table>\n",
       "</div>"
      ],
      "text/plain": [
       "                          Gênero  Média de número de avaliações\n",
       "4  ['Biography & Autobiography']                      38.170281\n",
       "0                    ['Fiction']                      35.336751\n",
       "3           ['Juvenile Fiction']                      28.556301\n",
       "5       ['Business & Economics']                      22.601770\n",
       "9                    ['Science']                      17.161560\n",
       "8        ['Juvenile Nonfiction']                      14.865209\n",
       "2                    ['History']                      12.299735\n",
       "7             ['Social Science']                      11.177455\n",
       "1                   ['Religion']                      10.792749\n",
       "6                  ['Computers']                       3.105780"
      ]
     },
     "execution_count": 341,
     "metadata": {},
     "output_type": "execute_result"
    }
   ],
   "source": [
    "generos = dados_livros['categories']\n",
    "generos_df = pd.DataFrame(generos.compute())\n",
    "top_10_generos = generos_df['categories'].value_counts().head(10)\n",
    "generos_list = top_10_generos.index.tolist()\n",
    "lista_media_avaliacoes = []\n",
    "\n",
    "for genero in generos_list:\n",
    "    dados_livros_genero = dados_livros[dados_livros['categories'] == genero]\n",
    "    notas_livros_genero = dados_livros_genero['ratingsCount']\n",
    "    media_notas_livros_genero = notas_livros_genero.mean().compute()\n",
    "    lista_media_avaliacoes.append(media_notas_livros_genero)\n",
    "\n",
    "d = {'Gênero': generos_list, 'Média de número de avaliações': lista_media_avaliacoes}\n",
    "\n",
    "nota_media_genero_df = pd.DataFrame(data=d)\n",
    "nota_media_genero_df = nota_media_genero_df.sort_values(by='Média de número de avaliações', ascending=False)\n",
    "\n",
    "nota_media_genero_df"
   ]
  },
  {
   "cell_type": "markdown",
   "metadata": {},
   "source": [
    "A tabela acima mostra o número de avaliações dos livros por gênero dentre os Top 10 Gêneros com mais livros na base de dados.\n",
    "  \n",
    "Curiosamente, o gêneo Biografia possui em média o maior número de avaliações, mesmo tendo muito menos livros do que os gêneros Ficção e Religião.\n"
   ]
  },
  {
   "cell_type": "markdown",
   "metadata": {},
   "source": [
    "#### 4.8. Número de avaliações dos livros por autor - Top 10 Autores com mais livros na base de dados"
   ]
  },
  {
   "cell_type": "code",
   "execution_count": 342,
   "metadata": {},
   "outputs": [
    {
     "data": {
      "text/html": [
       "<div>\n",
       "<style scoped>\n",
       "    .dataframe tbody tr th:only-of-type {\n",
       "        vertical-align: middle;\n",
       "    }\n",
       "\n",
       "    .dataframe tbody tr th {\n",
       "        vertical-align: top;\n",
       "    }\n",
       "\n",
       "    .dataframe thead th {\n",
       "        text-align: right;\n",
       "    }\n",
       "</style>\n",
       "<table border=\"1\" class=\"dataframe\">\n",
       "  <thead>\n",
       "    <tr style=\"text-align: right;\">\n",
       "      <th></th>\n",
       "      <th>Autor</th>\n",
       "      <th>Média de número de avaliações</th>\n",
       "    </tr>\n",
       "  </thead>\n",
       "  <tbody>\n",
       "    <tr>\n",
       "      <th>8</th>\n",
       "      <td>['Rudyard Kipling']</td>\n",
       "      <td>79.897436</td>\n",
       "    </tr>\n",
       "    <tr>\n",
       "      <th>3</th>\n",
       "      <td>['Agatha Christie']</td>\n",
       "      <td>52.039474</td>\n",
       "    </tr>\n",
       "    <tr>\n",
       "      <th>6</th>\n",
       "      <td>['Charles Dickens']</td>\n",
       "      <td>35.184211</td>\n",
       "    </tr>\n",
       "    <tr>\n",
       "      <th>1</th>\n",
       "      <td>['William Shakespeare']</td>\n",
       "      <td>7.327273</td>\n",
       "    </tr>\n",
       "    <tr>\n",
       "      <th>5</th>\n",
       "      <td>[\"Louis L'Amour\"]</td>\n",
       "      <td>4.250000</td>\n",
       "    </tr>\n",
       "    <tr>\n",
       "      <th>7</th>\n",
       "      <td>['Edgar Rice Burroughs']</td>\n",
       "      <td>3.696970</td>\n",
       "    </tr>\n",
       "    <tr>\n",
       "      <th>9</th>\n",
       "      <td>['Zane Grey']</td>\n",
       "      <td>2.678571</td>\n",
       "    </tr>\n",
       "    <tr>\n",
       "      <th>4</th>\n",
       "      <td>['Erle Stanley Gardner']</td>\n",
       "      <td>2.633333</td>\n",
       "    </tr>\n",
       "    <tr>\n",
       "      <th>2</th>\n",
       "      <td>['Library of Congress. Copyright Office']</td>\n",
       "      <td>1.529412</td>\n",
       "    </tr>\n",
       "    <tr>\n",
       "      <th>0</th>\n",
       "      <td>['Rose Arny']</td>\n",
       "      <td>1.000000</td>\n",
       "    </tr>\n",
       "  </tbody>\n",
       "</table>\n",
       "</div>"
      ],
      "text/plain": [
       "                                       Autor  Média de número de avaliações\n",
       "8                        ['Rudyard Kipling']                      79.897436\n",
       "3                        ['Agatha Christie']                      52.039474\n",
       "6                        ['Charles Dickens']                      35.184211\n",
       "1                    ['William Shakespeare']                       7.327273\n",
       "5                          [\"Louis L'Amour\"]                       4.250000\n",
       "7                   ['Edgar Rice Burroughs']                       3.696970\n",
       "9                              ['Zane Grey']                       2.678571\n",
       "4                   ['Erle Stanley Gardner']                       2.633333\n",
       "2  ['Library of Congress. Copyright Office']                       1.529412\n",
       "0                              ['Rose Arny']                       1.000000"
      ]
     },
     "execution_count": 342,
     "metadata": {},
     "output_type": "execute_result"
    }
   ],
   "source": [
    "autores = dados_livros['authors']\n",
    "autores_df = pd.DataFrame(autores.compute())\n",
    "top_10_autores = autores_df['authors'].value_counts().head(10)\n",
    "autores_list = top_10_autores.index.tolist()\n",
    "lista_media_avaliacoes = []\n",
    "\n",
    "for autor in autores_list:\n",
    "    dados_livros_autor = dados_livros[dados_livros['authors'] == autor]\n",
    "    notas_livros_autor = dados_livros_autor['ratingsCount']\n",
    "    media_notas_livros_autor = notas_livros_autor.mean().compute()\n",
    "    lista_media_avaliacoes.append(media_notas_livros_autor)\n",
    "\n",
    "d = {'Autor': autores_list, 'Média de número de avaliações': lista_media_avaliacoes}\n",
    "\n",
    "nota_media_autor_df = pd.DataFrame(data=d)\n",
    "nota_media_autor_df = nota_media_autor_df.sort_values(by='Média de número de avaliações', ascending=False)\n",
    "\n",
    "nota_media_autor_df"
   ]
  },
  {
   "cell_type": "markdown",
   "metadata": {},
   "source": [
    "A tabela acima mostra o número de avaliações dos livros por autor dentre os Top 10 Autores com mais livros na base de dados.\n",
    "  \n",
    "O autor mais avaliado é \"Rudyard Kipling\", que é conhecido por escrever livros infantis, como \"O Livro da Selva\" e o poema \"O Fardo do Homem Branco\" símbolo do neocolonialismo britânico.\n",
    "  \n",
    "A segunda posição é ocupada por \"Agatha Christie\", que é conhecida por escrever livros de mistério, como \"Assassinato no Expresso do Oriente\".\n",
    "  \n",
    "E a terceira posição é ocupada por \"Charles Dickens\", conhecido por escrever clássicos de ficção, como \"Oliver Twist\"."
   ]
  },
  {
   "cell_type": "markdown",
   "metadata": {},
   "source": [
    "#### 4.9. Número de avaliações dos livros por editora - Top 10 Editoras com mais livros na base de dados"
   ]
  },
  {
   "cell_type": "code",
   "execution_count": 343,
   "metadata": {},
   "outputs": [
    {
     "data": {
      "text/html": [
       "<div>\n",
       "<style scoped>\n",
       "    .dataframe tbody tr th:only-of-type {\n",
       "        vertical-align: middle;\n",
       "    }\n",
       "\n",
       "    .dataframe tbody tr th {\n",
       "        vertical-align: top;\n",
       "    }\n",
       "\n",
       "    .dataframe thead th {\n",
       "        text-align: right;\n",
       "    }\n",
       "</style>\n",
       "<table border=\"1\" class=\"dataframe\">\n",
       "  <thead>\n",
       "    <tr style=\"text-align: right;\">\n",
       "      <th></th>\n",
       "      <th>Editora</th>\n",
       "      <th>Média de número de avaliações</th>\n",
       "    </tr>\n",
       "  </thead>\n",
       "  <tbody>\n",
       "    <tr>\n",
       "      <th>8</th>\n",
       "      <td>Vintage</td>\n",
       "      <td>54.849462</td>\n",
       "    </tr>\n",
       "    <tr>\n",
       "      <th>1</th>\n",
       "      <td>Penguin</td>\n",
       "      <td>44.384923</td>\n",
       "    </tr>\n",
       "    <tr>\n",
       "      <th>4</th>\n",
       "      <td>Harper Collins</td>\n",
       "      <td>43.427069</td>\n",
       "    </tr>\n",
       "    <tr>\n",
       "      <th>2</th>\n",
       "      <td>Routledge</td>\n",
       "      <td>35.900433</td>\n",
       "    </tr>\n",
       "    <tr>\n",
       "      <th>6</th>\n",
       "      <td>Macmillan</td>\n",
       "      <td>29.619772</td>\n",
       "    </tr>\n",
       "    <tr>\n",
       "      <th>0</th>\n",
       "      <td>Simon and Schuster</td>\n",
       "      <td>24.201982</td>\n",
       "    </tr>\n",
       "    <tr>\n",
       "      <th>7</th>\n",
       "      <td>Courier Corporation</td>\n",
       "      <td>15.905405</td>\n",
       "    </tr>\n",
       "    <tr>\n",
       "      <th>9</th>\n",
       "      <td>Open Road Media</td>\n",
       "      <td>5.875657</td>\n",
       "    </tr>\n",
       "    <tr>\n",
       "      <th>5</th>\n",
       "      <td>Cambridge University Press</td>\n",
       "      <td>2.364679</td>\n",
       "    </tr>\n",
       "    <tr>\n",
       "      <th>3</th>\n",
       "      <td>John Wiley &amp; Sons</td>\n",
       "      <td>2.283883</td>\n",
       "    </tr>\n",
       "  </tbody>\n",
       "</table>\n",
       "</div>"
      ],
      "text/plain": [
       "                      Editora  Média de número de avaliações\n",
       "8                     Vintage                      54.849462\n",
       "1                     Penguin                      44.384923\n",
       "4              Harper Collins                      43.427069\n",
       "2                   Routledge                      35.900433\n",
       "6                   Macmillan                      29.619772\n",
       "0          Simon and Schuster                      24.201982\n",
       "7         Courier Corporation                      15.905405\n",
       "9             Open Road Media                       5.875657\n",
       "5  Cambridge University Press                       2.364679\n",
       "3           John Wiley & Sons                       2.283883"
      ]
     },
     "execution_count": 343,
     "metadata": {},
     "output_type": "execute_result"
    }
   ],
   "source": [
    "editoras = dados_livros['publisher']\n",
    "editoras_df = pd.DataFrame(editoras.compute())\n",
    "top_10_editoras = editoras_df['publisher'].value_counts().head(10)\n",
    "editoras_list = top_10_editoras.index.tolist()\n",
    "lista_media_avaliacoes = []\n",
    "\n",
    "for editora in editoras_list:\n",
    "    dados_livros_editora = dados_livros[dados_livros['publisher'] == editora]\n",
    "    notas_livros_editora = dados_livros_editora['ratingsCount']\n",
    "    media_notas_livros_editora = notas_livros_editora.mean().compute()\n",
    "    lista_media_avaliacoes.append(media_notas_livros_editora)\n",
    "\n",
    "d = {'Editora': editoras_list, 'Média de número de avaliações': lista_media_avaliacoes}\n",
    "\n",
    "nota_media_editora_df = pd.DataFrame(data=d)\n",
    "nota_media_editora_df = nota_media_editora_df.sort_values(by='Média de número de avaliações', ascending=False)\n",
    "\n",
    "nota_media_editora_df"
   ]
  },
  {
   "cell_type": "markdown",
   "metadata": {},
   "source": [
    "A tabela acima mostra o número de avaliações dos livros por editora dentre os Top 10 Editoras com mais livros na base de dados.\n",
    "\n",
    "Todas as editoras do Top 10 possuem, como esperado, são editoras muito conhecidas e famosas, como \"Simon & Schuster\", \"Penguin\" e \"Routledge\"."
   ]
  },
  {
   "cell_type": "markdown",
   "metadata": {},
   "source": [
    "#### 4.10. Número de avaliações dos livros por ano nos últimos 10 anos (Data de Publicação)"
   ]
  },
  {
   "cell_type": "code",
   "execution_count": 344,
   "metadata": {},
   "outputs": [
    {
     "data": {
      "text/html": [
       "<div>\n",
       "<style scoped>\n",
       "    .dataframe tbody tr th:only-of-type {\n",
       "        vertical-align: middle;\n",
       "    }\n",
       "\n",
       "    .dataframe tbody tr th {\n",
       "        vertical-align: top;\n",
       "    }\n",
       "\n",
       "    .dataframe thead th {\n",
       "        text-align: right;\n",
       "    }\n",
       "</style>\n",
       "<table border=\"1\" class=\"dataframe\">\n",
       "  <thead>\n",
       "    <tr style=\"text-align: right;\">\n",
       "      <th></th>\n",
       "      <th>Ano</th>\n",
       "      <th>Média de número de avaliações</th>\n",
       "    </tr>\n",
       "  </thead>\n",
       "  <tbody>\n",
       "    <tr>\n",
       "      <th>79</th>\n",
       "      <td>2022</td>\n",
       "      <td>15.061776</td>\n",
       "    </tr>\n",
       "    <tr>\n",
       "      <th>45</th>\n",
       "      <td>2021</td>\n",
       "      <td>13.379009</td>\n",
       "    </tr>\n",
       "    <tr>\n",
       "      <th>16</th>\n",
       "      <td>2020</td>\n",
       "      <td>18.345254</td>\n",
       "    </tr>\n",
       "    <tr>\n",
       "      <th>57</th>\n",
       "      <td>2019</td>\n",
       "      <td>23.529412</td>\n",
       "    </tr>\n",
       "    <tr>\n",
       "      <th>9</th>\n",
       "      <td>2018</td>\n",
       "      <td>15.473350</td>\n",
       "    </tr>\n",
       "    <tr>\n",
       "      <th>22</th>\n",
       "      <td>2017</td>\n",
       "      <td>44.626157</td>\n",
       "    </tr>\n",
       "    <tr>\n",
       "      <th>12</th>\n",
       "      <td>2016</td>\n",
       "      <td>29.487179</td>\n",
       "    </tr>\n",
       "    <tr>\n",
       "      <th>15</th>\n",
       "      <td>2015</td>\n",
       "      <td>43.878168</td>\n",
       "    </tr>\n",
       "    <tr>\n",
       "      <th>30</th>\n",
       "      <td>2014</td>\n",
       "      <td>57.696292</td>\n",
       "    </tr>\n",
       "    <tr>\n",
       "      <th>24</th>\n",
       "      <td>2013</td>\n",
       "      <td>33.795964</td>\n",
       "    </tr>\n",
       "  </tbody>\n",
       "</table>\n",
       "</div>"
      ],
      "text/plain": [
       "     Ano  Média de número de avaliações\n",
       "79  2022                      15.061776\n",
       "45  2021                      13.379009\n",
       "16  2020                      18.345254\n",
       "57  2019                      23.529412\n",
       "9   2018                      15.473350\n",
       "22  2017                      44.626157\n",
       "12  2016                      29.487179\n",
       "15  2015                      43.878168\n",
       "30  2014                      57.696292\n",
       "24  2013                      33.795964"
      ]
     },
     "execution_count": 344,
     "metadata": {},
     "output_type": "execute_result"
    }
   ],
   "source": [
    "anos = dados_livros_ano['publishedDate'].unique().compute()\n",
    "anos = anos.sort_values()\n",
    "anos = anos[anos <= 2022]\n",
    "ultimos_10_anos = anos[-10:]\n",
    "lista_media_avaliacoes = []\n",
    "\n",
    "for ano in ultimos_10_anos:\n",
    "    dados_livros_ano_filtrado = dados_livros_ano[dados_livros_ano['publishedDate'] == ano]\n",
    "    notas_livros_ano = dados_livros_ano_filtrado['ratingsCount']\n",
    "    media_notas_livros_ano = notas_livros_ano.mean().compute()\n",
    "    lista_media_avaliacoes.append(media_notas_livros_ano)\n",
    "\n",
    "d = {'Ano': ultimos_10_anos, 'Média de número de avaliações': lista_media_avaliacoes}\n",
    "\n",
    "nota_media_ano_df = pd.DataFrame(data=d)\n",
    "nota_media_ano_df = nota_media_ano_df.sort_values(by='Ano', ascending=False)\n",
    "\n",
    "nota_media_ano_df"
   ]
  },
  {
   "cell_type": "markdown",
   "metadata": {},
   "source": [
    "A tabela acima mostra o número de avaliações dos livros por ano nos últimos 10 anos (Data de Publicação).\n",
    "\n",
    "Como pode-se observar, o ano de 2014 é o que possui a maior média de avaliações, com 57.69 avaliações por livro, o que é esperado, pois como já foi dito anteriormente, o ano de 2014 é o que possui a maior quantidade de livros lançados."
   ]
  },
  {
   "cell_type": "markdown",
   "metadata": {},
   "source": [
    "#### 5. Análise Exploratória - Dados do Dataset \"Books_rating.csv\""
   ]
  },
  {
   "cell_type": "markdown",
   "metadata": {},
   "source": [
    "#### 5.1. Top 10 livros com mais avaliações na base de dados"
   ]
  },
  {
   "cell_type": "code",
   "execution_count": 345,
   "metadata": {},
   "outputs": [
    {
     "data": {
      "image/png": "[encoded data removed]",
      "text/plain": [
       "<Figure size 720x360 with 1 Axes>"
      ]
     },
     "metadata": {
      "needs_background": "light"
     },
     "output_type": "display_data"
    }
   ],
   "source": [
    "# CHECK most reocurring books by Id \n",
    "books = reviews['Title'].compute()\n",
    "count_books = books.value_counts()\n",
    "count_books = count_books.sort_values(ascending=False).head(10)\n",
    "\n",
    "plt.figure(figsize=(10,5))\n",
    "plt.title('Top 10 livros mais avaliados na base de dados')\n",
    "plt.xlabel('Livros')\n",
    "plt.ylabel('Número de avaliações')\n",
    "count_books.plot.bar(color='purple', alpha=0.5)\n",
    "plt.show()"
   ]
  },
  {
   "cell_type": "markdown",
   "metadata": {},
   "source": [
    "Como pode-se observar no gráfico, os livros com mais avaliações na base de dados são:\n",
    "\n",
    "- \"The Hobbit\" : que é um livro de fantasia escrito por J. R. R. Tolkien;\n",
    "- \"Pride and Prejudice\" : que é um romance escrito por Jane Austen;\n",
    "- \"Atlas Shrugged\" : que é um romance escrito por Ayn Rand;\n",
    "- \"Wuthering Heights\" : que é um romance escrito por Emily Brontë;\n",
    "- \"The Giver\" : que é um romance escrito por Lois Lowry;\n",
    "- \"Great Expectations\" : que é um romance escrito por Charles Dickens;\n",
    "- \"Harry Potter and the Sorcerer's Stone\" : que é um livro de fantasia escrito por J. K. Rowling;\n",
    "- \"Of Mice and Men\" : que é um romance escrito por John Steinbeck;\n",
    "- \"Brave New World\" : que é um romance escrito por Aldous Huxley;\n",
    "- \"Mere Christianity\" : que é um livro de não ficção escrito por C. S. Lewis."
   ]
  },
  {
   "cell_type": "markdown",
   "metadata": {},
   "source": [
    "#### 5.2. Média de avaliações dos Top 10 livros mais avaliados na base de dados"
   ]
  },
  {
   "cell_type": "code",
   "execution_count": 346,
   "metadata": {},
   "outputs": [
    {
     "data": {
      "text/html": [
       "<div>\n",
       "<style scoped>\n",
       "    .dataframe tbody tr th:only-of-type {\n",
       "        vertical-align: middle;\n",
       "    }\n",
       "\n",
       "    .dataframe tbody tr th {\n",
       "        vertical-align: top;\n",
       "    }\n",
       "\n",
       "    .dataframe thead th {\n",
       "        text-align: right;\n",
       "    }\n",
       "</style>\n",
       "<table border=\"1\" class=\"dataframe\">\n",
       "  <thead>\n",
       "    <tr style=\"text-align: right;\">\n",
       "      <th></th>\n",
       "      <th>Livro</th>\n",
       "      <th>Média de avaliações (0-5)</th>\n",
       "    </tr>\n",
       "  </thead>\n",
       "  <tbody>\n",
       "    <tr>\n",
       "      <th>6</th>\n",
       "      <td>Harry Potter and The Sorcerer's Stone</td>\n",
       "      <td>4.739258</td>\n",
       "    </tr>\n",
       "    <tr>\n",
       "      <th>0</th>\n",
       "      <td>The Hobbit</td>\n",
       "      <td>4.657131</td>\n",
       "    </tr>\n",
       "    <tr>\n",
       "      <th>1</th>\n",
       "      <td>Pride and Prejudice</td>\n",
       "      <td>4.527662</td>\n",
       "    </tr>\n",
       "    <tr>\n",
       "      <th>9</th>\n",
       "      <td>Mere Christianity</td>\n",
       "      <td>4.469684</td>\n",
       "    </tr>\n",
       "    <tr>\n",
       "      <th>7</th>\n",
       "      <td>Of Mice and Men</td>\n",
       "      <td>4.350476</td>\n",
       "    </tr>\n",
       "    <tr>\n",
       "      <th>4</th>\n",
       "      <td>The Giver</td>\n",
       "      <td>4.273417</td>\n",
       "    </tr>\n",
       "    <tr>\n",
       "      <th>8</th>\n",
       "      <td>Brave New World</td>\n",
       "      <td>4.235266</td>\n",
       "    </tr>\n",
       "    <tr>\n",
       "      <th>5</th>\n",
       "      <td>Great Expectations</td>\n",
       "      <td>4.089880</td>\n",
       "    </tr>\n",
       "    <tr>\n",
       "      <th>3</th>\n",
       "      <td>Wuthering Heights</td>\n",
       "      <td>4.053711</td>\n",
       "    </tr>\n",
       "    <tr>\n",
       "      <th>2</th>\n",
       "      <td>Atlas Shrugged</td>\n",
       "      <td>4.028690</td>\n",
       "    </tr>\n",
       "  </tbody>\n",
       "</table>\n",
       "</div>"
      ],
      "text/plain": [
       "                                   Livro  Média de avaliações (0-5)\n",
       "6  Harry Potter and The Sorcerer's Stone                   4.739258\n",
       "0                             The Hobbit                   4.657131\n",
       "1                    Pride and Prejudice                   4.527662\n",
       "9                      Mere Christianity                   4.469684\n",
       "7                        Of Mice and Men                   4.350476\n",
       "4                              The Giver                   4.273417\n",
       "8                        Brave New World                   4.235266\n",
       "5                     Great Expectations                   4.089880\n",
       "3                      Wuthering Heights                   4.053711\n",
       "2                         Atlas Shrugged                   4.028690"
      ]
     },
     "execution_count": 346,
     "metadata": {},
     "output_type": "execute_result"
    }
   ],
   "source": [
    "books = reviews['Title'].compute()\n",
    "count_books = books.value_counts()\n",
    "count_books = count_books.sort_values(ascending=False).head(10)\n",
    "lista_media_avaliacoes = []\n",
    "\n",
    "for book in count_books.index:\n",
    "    book_reviews = reviews[reviews['Title'] == book]\n",
    "    book_reviews = book_reviews['review/score'].compute()\n",
    "    book_reviews = book_reviews.mean()\n",
    "    lista_media_avaliacoes.append(book_reviews)\n",
    "\n",
    "d = {'Livro': count_books.index, 'Média de avaliações (0-5)': lista_media_avaliacoes}\n",
    "\n",
    "nota_media_livro_df = pd.DataFrame(data=d)\n",
    "nota_media_livro_df = nota_media_livro_df.sort_values(by='Média de avaliações (0-5)', ascending=False)\n",
    "nota_media_livro_df"
   ]
  },
  {
   "cell_type": "markdown",
   "metadata": {},
   "source": [
    "A tabela acima mostra a média de avaliações dos Top 10 livros mais avaliados na base de dados.\n",
    "  \n",
    "O livro \"Harry Potter and the Sorcerer's Stone\" possui a maior média de avaliações, com 4.73 de 5 estrelas.  \n",
    "O livro \"Atlas Shrugged\" possui a menor média de avaliações, com 4.02 de 5 estrelas."
   ]
  },
  {
   "cell_type": "markdown",
   "metadata": {},
   "source": [
    "### 6. Predição de Avaliações de Livros com base no texto da avaliação\n",
    "\n",
    "#### Seleção de Features\n",
    "\n",
    "Em termos de análise das avaliações, o dataset fornece algumas features extrínsecas que não seram necessárias para treinar um modelo. Apenas as colunas ***review/summary***, ***review/text*** e a target  ***review/score*** foram consideradas para reduzir a complexidade."
   ]
  },
  {
   "cell_type": "code",
   "execution_count": 347,
   "metadata": {},
   "outputs": [
    {
     "data": {
      "text/html": [
       "<div>\n",
       "<style scoped>\n",
       "    .dataframe tbody tr th:only-of-type {\n",
       "        vertical-align: middle;\n",
       "    }\n",
       "\n",
       "    .dataframe tbody tr th {\n",
       "        vertical-align: top;\n",
       "    }\n",
       "\n",
       "    .dataframe thead th {\n",
       "        text-align: right;\n",
       "    }\n",
       "</style>\n",
       "<table border=\"1\" class=\"dataframe\">\n",
       "  <thead>\n",
       "    <tr style=\"text-align: right;\">\n",
       "      <th></th>\n",
       "      <th>review/summary</th>\n",
       "      <th>review/text</th>\n",
       "      <th>review/score</th>\n",
       "    </tr>\n",
       "  </thead>\n",
       "  <tbody>\n",
       "    <tr>\n",
       "      <th>0</th>\n",
       "      <td>Nice collection of Julie Strain images</td>\n",
       "      <td>This is only for Julie Strain fans. It's a col...</td>\n",
       "      <td>4.0</td>\n",
       "    </tr>\n",
       "    <tr>\n",
       "      <th>1</th>\n",
       "      <td>Really Enjoyed It</td>\n",
       "      <td>I don't care much for Dr. Seuss but after read...</td>\n",
       "      <td>5.0</td>\n",
       "    </tr>\n",
       "    <tr>\n",
       "      <th>2</th>\n",
       "      <td>Essential for every personal and Public Library</td>\n",
       "      <td>If people become the books they read and if \"t...</td>\n",
       "      <td>5.0</td>\n",
       "    </tr>\n",
       "  </tbody>\n",
       "</table>\n",
       "</div>"
      ],
      "text/plain": [
       "                                    review/summary  \\\n",
       "0           Nice collection of Julie Strain images   \n",
       "1                                Really Enjoyed It   \n",
       "2  Essential for every personal and Public Library   \n",
       "\n",
       "                                         review/text  review/score  \n",
       "0  This is only for Julie Strain fans. It's a col...           4.0  \n",
       "1  I don't care much for Dr. Seuss but after read...           5.0  \n",
       "2  If people become the books they read and if \"t...           5.0  "
      ]
     },
     "execution_count": 347,
     "metadata": {},
     "output_type": "execute_result"
    }
   ],
   "source": [
    "reviews_processed = reviews.copy()\n",
    "reviews_processed = reviews_processed[['review/summary', 'review/text', 'review/score']]\n",
    "reviews_processed.head(3)"
   ]
  },
  {
   "cell_type": "markdown",
   "metadata": {},
   "source": [
    "#### Pré-processamento dos dados"
   ]
  },
  {
   "cell_type": "code",
   "execution_count": 348,
   "metadata": {},
   "outputs": [
    {
     "name": "stderr",
     "output_type": "stream",
     "text": [
      "C:\\Users\\tutuc\\AppData\\Local\\Packages\\PythonSoftwareFoundation.Python.3.10_qbz5n2kfra8p0\\LocalCache\\local-packages\\Python310\\site-packages\\dask\\dataframe\\accessor.py:89: FutureWarning: The default value of regex will change from True to False in a future version.\n",
      "  out = getattr(getattr(obj, accessor, obj), attr)(*args, **kwargs)\n",
      "C:\\Users\\tutuc\\AppData\\Local\\Packages\\PythonSoftwareFoundation.Python.3.10_qbz5n2kfra8p0\\LocalCache\\local-packages\\Python310\\site-packages\\dask\\dataframe\\accessor.py:89: FutureWarning: The default value of regex will change from True to False in a future version.\n",
      "  out = getattr(getattr(obj, accessor, obj), attr)(*args, **kwargs)\n",
      "C:\\Users\\tutuc\\AppData\\Local\\Packages\\PythonSoftwareFoundation.Python.3.10_qbz5n2kfra8p0\\LocalCache\\local-packages\\Python310\\site-packages\\dask\\dataframe\\accessor.py:89: FutureWarning: The default value of regex will change from True to False in a future version.\n",
      "  out = getattr(getattr(obj, accessor, obj), attr)(*args, **kwargs)\n",
      "C:\\Users\\tutuc\\AppData\\Local\\Packages\\PythonSoftwareFoundation.Python.3.10_qbz5n2kfra8p0\\LocalCache\\local-packages\\Python310\\site-packages\\dask\\dataframe\\accessor.py:89: FutureWarning: The default value of regex will change from True to False in a future version.\n",
      "  out = getattr(getattr(obj, accessor, obj), attr)(*args, **kwargs)\n",
      "C:\\Users\\tutuc\\AppData\\Local\\Packages\\PythonSoftwareFoundation.Python.3.10_qbz5n2kfra8p0\\LocalCache\\local-packages\\Python310\\site-packages\\dask\\dataframe\\accessor.py:89: FutureWarning: The default value of regex will change from True to False in a future version.\n",
      "  out = getattr(getattr(obj, accessor, obj), attr)(*args, **kwargs)\n",
      "C:\\Users\\tutuc\\AppData\\Local\\Packages\\PythonSoftwareFoundation.Python.3.10_qbz5n2kfra8p0\\LocalCache\\local-packages\\Python310\\site-packages\\dask\\dataframe\\accessor.py:89: FutureWarning: The default value of regex will change from True to False in a future version.\n",
      "  out = getattr(getattr(obj, accessor, obj), attr)(*args, **kwargs)\n"
     ]
    },
    {
     "data": {
      "text/html": [
       "<div>\n",
       "<style scoped>\n",
       "    .dataframe tbody tr th:only-of-type {\n",
       "        vertical-align: middle;\n",
       "    }\n",
       "\n",
       "    .dataframe tbody tr th {\n",
       "        vertical-align: top;\n",
       "    }\n",
       "\n",
       "    .dataframe thead th {\n",
       "        text-align: right;\n",
       "    }\n",
       "</style>\n",
       "<table border=\"1\" class=\"dataframe\">\n",
       "  <thead>\n",
       "    <tr style=\"text-align: right;\">\n",
       "      <th></th>\n",
       "      <th>review/summary</th>\n",
       "      <th>review/text</th>\n",
       "      <th>review/score</th>\n",
       "    </tr>\n",
       "  </thead>\n",
       "  <tbody>\n",
       "    <tr>\n",
       "      <th>0</th>\n",
       "      <td>nice collection of julie strain images</td>\n",
       "      <td>this is only for julie strain fans its a colle...</td>\n",
       "      <td>4.0</td>\n",
       "    </tr>\n",
       "    <tr>\n",
       "      <th>1</th>\n",
       "      <td>really enjoyed it</td>\n",
       "      <td>i dont care much for dr seuss but after readin...</td>\n",
       "      <td>5.0</td>\n",
       "    </tr>\n",
       "    <tr>\n",
       "      <th>2</th>\n",
       "      <td>essential for every personal and public library</td>\n",
       "      <td>if people become the books they read and if th...</td>\n",
       "      <td>5.0</td>\n",
       "    </tr>\n",
       "  </tbody>\n",
       "</table>\n",
       "</div>"
      ],
      "text/plain": [
       "                                    review/summary  \\\n",
       "0           nice collection of julie strain images   \n",
       "1                                really enjoyed it   \n",
       "2  essential for every personal and public library   \n",
       "\n",
       "                                         review/text  review/score  \n",
       "0  this is only for julie strain fans its a colle...           4.0  \n",
       "1  i dont care much for dr seuss but after readin...           5.0  \n",
       "2  if people become the books they read and if th...           5.0  "
      ]
     },
     "execution_count": 348,
     "metadata": {},
     "output_type": "execute_result"
    }
   ],
   "source": [
    "#Filtrar colunas vazias\n",
    "reviews_processed = reviews_processed.dropna()\n",
    "reviews_processed = reviews_processed[reviews_processed['review/summary'] != '']\n",
    "reviews_processed = reviews_processed[reviews_processed['review/text'] != '']\n",
    "\n",
    "#Converção de colunas para string\n",
    "reviews_processed['review/summary'] = reviews_processed['review/summary'].astype(str)\n",
    "reviews_processed['review/text'] = reviews_processed['review/text'].astype(str)\n",
    "\n",
    "#Normalização dos textos\n",
    "reviews_processed['review/summary'] = reviews_processed['review/summary'].str.lower()\n",
    "reviews_processed['review/text'] = reviews_processed['review/text'].str.lower()\n",
    "\n",
    "#Remoção de pontuação e caracteres especiais\n",
    "punctuation = '[”/-@\\\\n:;?\\\"\\'().,]'\n",
    "reviews_processed['review/summary'] = reviews_processed['review/summary'].str.replace(punctuation, '')\n",
    "reviews_processed['review/text'] = reviews_processed['review/text'].str.replace(punctuation, '')\n",
    "\n",
    "#Remoção de tags HTML\n",
    "reviews_processed['review/summary'] = reviews_processed['review/summary'].str.replace('<[^<]+?>', '')\n",
    "reviews_processed['review/text'] = reviews_processed['review/text'].str.replace('<[^<]+?>', '')\n",
    "\n",
    "#Remoção de Números\n",
    "reviews_processed['review/summary'] = reviews_processed['review/summary'].str.replace(r\"\\d+\", '')\n",
    "reviews_processed['review/text'] = reviews_processed['review/text'].str.replace(r\"\\d+\", '')\n",
    "\n",
    "\n",
    "\n",
    "reviews_processed.head(3)"
   ]
  },
  {
   "cell_type": "code",
   "execution_count": 349,
   "metadata": {},
   "outputs": [
    {
     "name": "stderr",
     "output_type": "stream",
     "text": [
      "C:\\Users\\tutuc\\AppData\\Local\\Packages\\PythonSoftwareFoundation.Python.3.10_qbz5n2kfra8p0\\LocalCache\\local-packages\\Python310\\site-packages\\dask\\dataframe\\core.py:4005: UserWarning: \n",
      "You did not provide metadata, so Dask is running your function on a small dataset to guess output types. It is possible that Dask will guess incorrectly.\n",
      "To provide an explicit output types or to silence this message, please provide the `meta=` keyword, as described in the map or apply function that you are using.\n",
      "  Before: .apply(func)\n",
      "  After:  .apply(func, meta=('review/summary', 'object'))\n",
      "\n",
      "  warnings.warn(meta_warning(meta))\n",
      "C:\\Users\\tutuc\\AppData\\Local\\Packages\\PythonSoftwareFoundation.Python.3.10_qbz5n2kfra8p0\\LocalCache\\local-packages\\Python310\\site-packages\\dask\\dataframe\\core.py:4005: UserWarning: \n",
      "You did not provide metadata, so Dask is running your function on a small dataset to guess output types. It is possible that Dask will guess incorrectly.\n",
      "To provide an explicit output types or to silence this message, please provide the `meta=` keyword, as described in the map or apply function that you are using.\n",
      "  Before: .apply(func)\n",
      "  After:  .apply(func, meta=('review/text', 'object'))\n",
      "\n",
      "  warnings.warn(meta_warning(meta))\n"
     ]
    },
    {
     "data": {
      "text/html": [
       "<div>\n",
       "<style scoped>\n",
       "    .dataframe tbody tr th:only-of-type {\n",
       "        vertical-align: middle;\n",
       "    }\n",
       "\n",
       "    .dataframe tbody tr th {\n",
       "        vertical-align: top;\n",
       "    }\n",
       "\n",
       "    .dataframe thead th {\n",
       "        text-align: right;\n",
       "    }\n",
       "</style>\n",
       "<table border=\"1\" class=\"dataframe\">\n",
       "  <thead>\n",
       "    <tr style=\"text-align: right;\">\n",
       "      <th></th>\n",
       "      <th>review/summary</th>\n",
       "      <th>review/text</th>\n",
       "      <th>review/score</th>\n",
       "    </tr>\n",
       "  </thead>\n",
       "  <tbody>\n",
       "    <tr>\n",
       "      <th>0</th>\n",
       "      <td>nice collection julie strain images</td>\n",
       "      <td>julie strain fans collection photos -- pages w...</td>\n",
       "      <td>4.0</td>\n",
       "    </tr>\n",
       "    <tr>\n",
       "      <th>1</th>\n",
       "      <td>really enjoyed</td>\n",
       "      <td>dont care much dr seuss reading philip nels bo...</td>\n",
       "      <td>5.0</td>\n",
       "    </tr>\n",
       "    <tr>\n",
       "      <th>2</th>\n",
       "      <td>essential every personal public library</td>\n",
       "      <td>people become books read child father man dr s...</td>\n",
       "      <td>5.0</td>\n",
       "    </tr>\n",
       "  </tbody>\n",
       "</table>\n",
       "</div>"
      ],
      "text/plain": [
       "                            review/summary  \\\n",
       "0      nice collection julie strain images   \n",
       "1                           really enjoyed   \n",
       "2  essential every personal public library   \n",
       "\n",
       "                                         review/text  review/score  \n",
       "0  julie strain fans collection photos -- pages w...           4.0  \n",
       "1  dont care much dr seuss reading philip nels bo...           5.0  \n",
       "2  people become books read child father man dr s...           5.0  "
      ]
     },
     "execution_count": 349,
     "metadata": {},
     "output_type": "execute_result"
    }
   ],
   "source": [
    "#Remoção de stopwords\n",
    "stopwords = nltk.corpus.stopwords.words('english')\n",
    "reviews_processed['review/summary'] = reviews_processed['review/summary'].apply(lambda x: ' '.join([word for word in x.split() if word not in (stopwords)]))\n",
    "reviews_processed['review/text'] = reviews_processed['review/text'].apply(lambda x: ' '.join([word for word in x.split() if word not in (stopwords)]))\n",
    "reviews_processed.head(3)"
   ]
  },
  {
   "cell_type": "code",
   "execution_count": 350,
   "metadata": {},
   "outputs": [],
   "source": [
    "## União das colunas review/summary e review/text\t\n",
    "reviews_processed['review/text'] = reviews_processed['review/summary'] + ' ' + reviews_processed['review/text']\n",
    "reviews_processed = reviews_processed.drop(columns=['review/summary'])\n"
   ]
  },
  {
   "cell_type": "markdown",
   "metadata": {},
   "source": [
    "#### Train/Test Split"
   ]
  },
  {
   "cell_type": "code",
   "execution_count": null,
   "metadata": {},
   "outputs": [],
   "source": []
  }
 ],
 "metadata": {
  "kernelspec": {
   "display_name": "Python 3.10.8 64-bit (microsoft store)",
   "language": "python",
   "name": "python3"
  },
  "language_info": {
   "codemirror_mode": {
    "name": "ipython",
    "version": 3
   },
   "file_extension": ".py",
   "mimetype": "text/x-python",
   "name": "python",
   "nbconvert_exporter": "python",
   "pygments_lexer": "ipython3",
   "version": "3.10.8"
  },
  "orig_nbformat": 4,
  "vscode": {
   "interpreter": {
    "hash": "423337188875faafa7393099a8341eb410876aaf2cc09512b70699371c9250e3"
   }
  }
 },
 "nbformat": 4,
 "nbformat_minor": 2
}
